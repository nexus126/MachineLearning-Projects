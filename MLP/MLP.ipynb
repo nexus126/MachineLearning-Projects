{
 "cells": [
  {
   "cell_type": "markdown",
   "metadata": {
    "id": "ktpfWeI2zvJG"
   },
   "source": [
    "## Recall concepts\n",
    "\n",
    "Here a list of concepts you should recall for this exercises in order to solve them:\n",
    "- **Neural network**: It consists of interconnected nodes, called artificial neurons or \"units,\" organized in layers. By processing input data through these interconnected layers, a neural network can learn and make predictions or classifications based on patterns and relationships in the data.\n",
    "- **Neurons and layers**: They are designed to perform simple computations. Each neuron takes input from other neurons or from the input data, applies a mathematical operation to the inputs, and produces an output.\n",
    "Layers in a neural network are groups of neurons that are organized in a hierarchical manner. The input layer receives the initial data input, and the output layer produces the final output of the network. The hidden layers are intermediate layers between the input and output layers and perform complex computations on the input data\n",
    "- **Activation functions**: An activation function is a mathematical function applied to the output of a neuron in a neural network. It introduces non-linearity to the network, enabling it to learn complex patterns and make more accurate predictions. Activation functions determine whether a neuron should be activated or not, based on the weighted sum of its inputs.\n",
    "- **Loss functions**: A loss function, also known as a cost function or an objective function, is a mathematical function used to measure the discrepancy between the predicted output of a neural network and the expected output (ground truth). It quantifies the error or loss incurred by the network's predictions. The goal of the network during training is to minimize this loss function, effectively reducing the error and improving the accuracy of predictions.\n",
    "- **Batches and batch size**: Batches enable simultaneous weight updates based on average errors within the batch. Batch size refers to the number of training examples processed together in a neural network. It allows large datasets to be divided into smaller subsets, making training more computationally efficient. \n",
    "- **SGD**: Stochastic Gradient Descent (SGD) is an optimization algorithm used in training. It works by iteratively updating the model's parameters (weights and biases) based on the gradients of the loss function computed on small random subsets of the training data called mini-batches. SGD allows the model to efficiently navigate the parameter space in search of the optimal values that minimize the loss function.\n",
    "- **Backpropagation**: It involves computing and propagating gradients backward through the network to update the weights and biases. By comparing the network's predicted output with the expected output, backpropagation calculates the error and distributes it back through the layers, assigning each layer a portion of the error based on its contribution. This allows the network to adjust its weights in a way that reduces the overall error, enabling improved predictions.\n",
    "- **Learning rate**: The learning rate is a hyperparameter in machine learning algorithms that controls the rate of parameter updates during training. It determines the step size for adjusting the weights and biases of the model. A higher learning rate can speed up convergence but risks overshooting the optimal solution. Conversely, a lower learning rate leads to slower convergence but can provide more stable learning.\n",
    "- **Dropout**: Dropout is a regularization technique used in neural networks to reduce overfitting. It randomly \"drops out\" a fraction of the neurons during each training iteration, meaning they are temporarily ignored. This prevents neurons from relying too heavily on specific features, promoting the learning of more robust and independent representations.\n",
    "- **Epochs**: An epoch is a complete pass through the training dataset. During an epoch, the model updates its parameters based on the training data. The number of epochs determines how many times the dataset is processed. It affects the model's learning and convergence. The optimal number of epochs is determined through experimentation.\n"
   ]
  },
  {
   "cell_type": "markdown",
   "metadata": {
    "id": "zf5W4B7e0Bub"
   },
   "source": [
    "##Some usefull clarifications about backpropagation\n",
    "Backpropagation(more precisely Error's Backpropagation) is the process through which the model detect those neurons who gave the major contribution to the loss function.\n",
    "To be clear, we want to identify those neurons whose activation causes most of the errors in order to adjust the weights connected to them with gradient descent based algotithms (optimizers).\n",
    "After the forward pass in which the model if feeded and loss function is calculated we have a backward pass in wich backpropagation is involved.\n",
    "During the backpropagation it is calculated a chain of partial gradients. These partial gradients are calculated by fixing some parametres (by fixing some neuron's weights -- remember that the weights are the loss function's parametres).\n",
    "Calculating each possible gradient we cane understand who is the neurons whose weights are the most responsible for errors. Intuitively we can say that those weights will have the highest absolute value of the partial gradients.\n",
    "These weights will be adjusted in someway by the optimizer. \n",
    "\n"
   ]
  },
  {
   "cell_type": "code",
   "execution_count": 1,
   "metadata": {
    "id": "Eya3WLEyRVyu"
   },
   "outputs": [],
   "source": [
    "%matplotlib inline\n",
    "\n",
    "import torch\n",
    "import numpy as np\n",
    "\n",
    "import matplotlib.pyplot as plt\n",
    "import seaborn as sns"
   ]
  },
  {
   "cell_type": "markdown",
   "metadata": {
    "id": "YMBMtErhR3sE"
   },
   "source": [
    "We can check whether we have GPUs available:"
   ]
  },
  {
   "cell_type": "code",
   "execution_count": 2,
   "metadata": {
    "colab": {
     "base_uri": "https://localhost:8080/"
    },
    "id": "Q4yevKQlR3_9",
    "outputId": "8771418a-e9bb-43ff-9178-1c3d4b6e9aa6"
   },
   "outputs": [
    {
     "name": "stdout",
     "output_type": "stream",
     "text": [
      "There are 1 GPU(s) available.\n",
      "We will use the GPU: Tesla T4\n"
     ]
    }
   ],
   "source": [
    "# If there's a GPU available...\n",
    "if torch.cuda.is_available():    \n",
    "    # Tell PyTorch to use the GPU.    \n",
    "    device = torch.device(\"cuda\")\n",
    "    print('There are %d GPU(s) available.' % torch.cuda.device_count())\n",
    "    print('We will use the GPU:', torch.cuda.get_device_name(0))\n",
    "# If not...\n",
    "else:\n",
    "    print('No GPU available, using the CPU instead.')\n",
    "    print(\"Change the options of this Notebook to use the GPU instead for a quicker execution and re-run the notebook!\")\n",
    "    device = torch.device(\"cpu\")"
   ]
  },
  {
   "cell_type": "markdown",
   "metadata": {
    "id": "rzzRow-SR5tU"
   },
   "source": [
    "## MNIST data set\n",
    "\n",
    "Next we'll load the MNIST handwritten digits data set.  First time we may have to download the data, which can take a while.\n",
    "\n",
    "#### Altenative: Fashion-MNIST\n",
    "We will use it for the next experiment.\n",
    "Alternatively, MNIST can be replaced with Fashion-MNIST, which can be used as drop-in replacement for MNIST.   Fashion-MNIST contains images of 10 fashion categories:\n",
    "\n",
    "Label|Description|Label|Description\n",
    "--- | --- |--- | ---\n",
    "0|T-shirt/top|5|Sandal\n",
    "1|Trouser|6|Shirt\n",
    "2|Pullover|7|Sneaker\n",
    "3|Dress|8|Bag\n",
    "4|Coat|9|Ankle boot\n"
   ]
  },
  {
   "cell_type": "code",
   "execution_count": null,
   "metadata": {
    "colab": {
     "base_uri": "https://localhost:8080/"
    },
    "id": "EJ3fREiMR7gv",
    "outputId": "93f504a9-dfa7-4e8f-e527-21c5e3b6f38c"
   },
   "outputs": [
    {
     "name": "stdout",
     "output_type": "stream",
     "text": [
      "Downloading http://yann.lecun.com/exdb/mnist/train-images-idx3-ubyte.gz\n",
      "Downloading http://yann.lecun.com/exdb/mnist/train-images-idx3-ubyte.gz to data/MNIST/raw/train-images-idx3-ubyte.gz\n"
     ]
    },
    {
     "name": "stderr",
     "output_type": "stream",
     "text": [
      "100%|██████████| 9912422/9912422 [00:00<00:00, 194060479.76it/s]\n"
     ]
    },
    {
     "name": "stdout",
     "output_type": "stream",
     "text": [
      "Extracting data/MNIST/raw/train-images-idx3-ubyte.gz to data/MNIST/raw\n",
      "\n",
      "Downloading http://yann.lecun.com/exdb/mnist/train-labels-idx1-ubyte.gz\n",
      "Downloading http://yann.lecun.com/exdb/mnist/train-labels-idx1-ubyte.gz to data/MNIST/raw/train-labels-idx1-ubyte.gz\n"
     ]
    },
    {
     "name": "stderr",
     "output_type": "stream",
     "text": [
      "100%|██████████| 28881/28881 [00:00<00:00, 40663207.06it/s]\n"
     ]
    },
    {
     "name": "stdout",
     "output_type": "stream",
     "text": [
      "Extracting data/MNIST/raw/train-labels-idx1-ubyte.gz to data/MNIST/raw\n",
      "\n",
      "Downloading http://yann.lecun.com/exdb/mnist/t10k-images-idx3-ubyte.gz\n",
      "Downloading http://yann.lecun.com/exdb/mnist/t10k-images-idx3-ubyte.gz to data/MNIST/raw/t10k-images-idx3-ubyte.gz\n"
     ]
    },
    {
     "name": "stderr",
     "output_type": "stream",
     "text": [
      "100%|██████████| 1648877/1648877 [00:00<00:00, 121915338.32it/s]"
     ]
    },
    {
     "name": "stdout",
     "output_type": "stream",
     "text": [
      "Extracting data/MNIST/raw/t10k-images-idx3-ubyte.gz to data/MNIST/raw\n"
     ]
    },
    {
     "name": "stderr",
     "output_type": "stream",
     "text": [
      "\n"
     ]
    },
    {
     "name": "stdout",
     "output_type": "stream",
     "text": [
      "\n",
      "Downloading http://yann.lecun.com/exdb/mnist/t10k-labels-idx1-ubyte.gz\n",
      "Downloading http://yann.lecun.com/exdb/mnist/t10k-labels-idx1-ubyte.gz to data/MNIST/raw/t10k-labels-idx1-ubyte.gz\n"
     ]
    },
    {
     "name": "stderr",
     "output_type": "stream",
     "text": [
      "100%|██████████| 4542/4542 [00:00<00:00, 17287231.19it/s]\n"
     ]
    },
    {
     "name": "stdout",
     "output_type": "stream",
     "text": [
      "Extracting data/MNIST/raw/t10k-labels-idx1-ubyte.gz to data/MNIST/raw\n",
      "\n"
     ]
    }
   ],
   "source": [
    "from torchvision import datasets\n",
    "import torchvision.transforms as transforms\n",
    "\n",
    "# number of subprocesses to use for data loading\n",
    "num_workers = 0\n",
    "# how many samples per batch to load\n",
    "batch_size = 32\n",
    "\n",
    "# convert data to torch.FloatTensor\n",
    "transform = transforms.ToTensor()\n",
    "\n",
    "# choose the training and test datasets\n",
    "train_data = datasets.MNIST(root='data', train=True,\n",
    "                                   download=True, transform=transform)\n",
    "test_data = datasets.MNIST(root='data', train=False,\n",
    "                                  download=True, transform=transform)\n",
    "\n",
    "# prepare data loaders\n",
    "train_loader = torch.utils.data.DataLoader(train_data, batch_size=batch_size, num_workers=num_workers)\n",
    "test_loader = torch.utils.data.DataLoader(test_data, batch_size=batch_size, num_workers=num_workers)"
   ]
  },
  {
   "cell_type": "markdown",
   "metadata": {
    "id": "dHB6oopDR8_p"
   },
   "source": [
    "Let's take a closer look. Here are the first 20 training digits "
   ]
  },
  {
   "cell_type": "code",
   "execution_count": null,
   "metadata": {
    "colab": {
     "base_uri": "https://localhost:8080/",
     "height": 327
    },
    "id": "O7mJsx0SR-SX",
    "outputId": "23dbb473-5301-44d6-d907-2c289bc10644"
   },
   "outputs": [
    {
     "data": {
      "image/png": "[encoded data removed]",
      "text/plain": [
       "<Figure size 2500x400 with 20 Axes>"
      ]
     },
     "metadata": {},
     "output_type": "display_data"
    }
   ],
   "source": [
    "import matplotlib.pyplot as plt\n",
    "%matplotlib inline\n",
    "    \n",
    "# obtain one batch of training images\n",
    "dataiter = iter(train_loader)\n",
    "images, labels = next(dataiter)\n",
    "images = images.numpy()\n",
    "\n",
    "# plot the images in the batch, along with the corresponding labels\n",
    "fig = plt.figure(figsize=(25, 4))\n",
    "for idx in np.arange(20):\n",
    "    ax = fig.add_subplot(2, int(20/2), idx+1, xticks=[], yticks=[])\n",
    "    ax.imshow(np.squeeze(images[idx]), cmap='gray')\n",
    "    # print out the correct label for each image\n",
    "    # .item() gets the value contained in a Tensor\n",
    "    ax.set_title(str(labels[idx].item()))"
   ]
  },
  {
   "cell_type": "markdown",
   "metadata": {
    "id": "wjpn7bJlR_es"
   },
   "source": [
    "View an Image in More Detail"
   ]
  },
  {
   "cell_type": "code",
   "execution_count": null,
   "metadata": {
    "colab": {
     "base_uri": "https://localhost:8080/",
     "height": 830
    },
    "id": "_JiPr_SBSBPV",
    "outputId": "e1a00cb4-a582-4317-834f-f1c872cdaa93"
   },
   "outputs": [
    {
     "data": {
      "image/png": "[encoded data removed]",
      "text/plain": [
       "<Figure size 1000x1000 with 1 Axes>"
      ]
     },
     "metadata": {},
     "output_type": "display_data"
    }
   ],
   "source": [
    "img = np.squeeze(images[2])\n",
    "\n",
    "fig = plt.figure(figsize = (10,10)) \n",
    "ax = fig.add_subplot(111)\n",
    "ax.imshow(img, cmap='gray')\n",
    "width, height = img.shape\n",
    "thresh = img.max()/2.5\n",
    "for x in range(width):\n",
    "    for y in range(height):\n",
    "        val = round(img[x][y],2) if img[x][y] !=0 else 0\n",
    "        ax.annotate(str(val), xy=(y,x),\n",
    "                    horizontalalignment='center',\n",
    "                    verticalalignment='center',\n",
    "                    color='white' if img[x][y]<thresh else 'black')"
   ]
  },
  {
   "cell_type": "markdown",
   "metadata": {
    "id": "QsPVwZxESCuk"
   },
   "source": [
    "## \"Linear\" model\n",
    "\n",
    "### Initialization\n",
    "\n",
    "Let's begin with a simple linear model.  \n",
    "We need to define a `Model` that implements the NeuralNetwork from Pytorch.  \n",
    "Then we add a `Dense` layer that has 28*28=784 input nodes (one for each pixel in the input image) and 10 output nodes. The `Linear` layer connects each input to each output with some weight parameter. \n"
   ]
  },
  {
   "cell_type": "code",
   "execution_count": 3,
   "metadata": {
    "colab": {
     "base_uri": "https://localhost:8080/"
    },
    "id": "Z0qckP3hSEnP",
    "outputId": "9e01a973-aca5-4526-83f9-7352a3786348"
   },
   "outputs": [
    {
     "name": "stdout",
     "output_type": "stream",
     "text": [
      "Net(\n",
      "  (fc): Linear(in_features=784, out_features=10, bias=True)\n",
      "  (dropout): Dropout(p=0.2, inplace=False)\n",
      ")\n"
     ]
    }
   ],
   "source": [
    "import torch.nn as nn\n",
    "import torch.nn.functional as F\n",
    "\n",
    "## Define the NN architecture\n",
    "class Net(nn.Module):\n",
    "    def __init__(self):\n",
    "        super(Net, self).__init__()\n",
    "        self.fc = nn.Linear(28 * 28, 10)\n",
    "    \n",
    "        self.dropout = nn.Dropout(0.2)\n",
    "\n",
    "    def forward(self, x):\n",
    "        # flatten image input\n",
    "        x = x.view(-1, 28 * 28)\n",
    "        # we can apply dropout\n",
    "        x = self.dropout(x)\n",
    "        # add hidden layer, with relu activation function\n",
    "        x = self.fc(x)\n",
    "        \n",
    "        return x\n",
    "\n",
    "# initialize the NN\n",
    "model = Net()\n",
    "print(model)"
   ]
  },
  {
   "cell_type": "markdown",
   "metadata": {
    "id": "QvUAmrD1SGgQ"
   },
   "source": [
    "**Specify [Loss Function](http://pytorch.org/docs/stable/nn.html#loss-functions) and [Optimizer](http://pytorch.org/docs/stable/optim.html)**\n",
    "\n",
    "It's recommended that you use cross-entropy loss for classification. Here the softmax is not explicitly declared as the `CrossEntropyLoss`is expected to be directly applied to logits. (If you look at the documentation (linked above), you can see that PyTorch's cross entropy function applies a Softmax function to the output layer and then calculates the log loss.)\n",
    "\n",
    "\n",
    "![softmax.png](data:image/png;base64,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)\n"
   ]
  },
  {
   "cell_type": "code",
   "execution_count": 4,
   "metadata": {
    "id": "fCzhbPHbSH2w"
   },
   "outputs": [],
   "source": [
    "## Specify loss and optimization functions\n",
    "\n",
    "# specify loss function. NOTE: it contains the softmax so it is not needed to \n",
    "# implement it in the network definition\n",
    "criterion = nn.CrossEntropyLoss()\n",
    "\n",
    "# specify optimizer\n",
    "optimizer = torch.optim.SGD(model.parameters(), lr=0.01)"
   ]
  },
  {
   "cell_type": "markdown",
   "metadata": {
    "id": "xCcwz-VASJAO"
   },
   "source": [
    "### Learning\n",
    "\n",
    "Now we are ready to train our first model.  An *epoch* means one pass through the whole training data. \n",
    "\n",
    "The steps for training/learning from a batch of data are described in the comments below:\n",
    "\n",
    "1.   Clear the gradients of all optimized variables\n",
    "2.   Forward pass: compute predicted outputs by passing inputs to the model\n",
    "3.   Calculate the loss between the predicted output and the expected output\n",
    "4.   Backward pass: compute gradient of the loss with respect to model parameters\n",
    "5.   Perform a single optimization step (parameter update)\n",
    "6.   Update average training loss\n",
    "\n",
    "The following loop trains for 10 epochs; feel free to change this number. For now, we suggest somewhere between 20-50 epochs. As you train, take a look at how the values for the training loss decrease over time. We want it to decrease while also avoiding overfitting the training data."
   ]
  },
  {
   "cell_type": "markdown",
   "metadata": {
    "id": "E5O9_WuyEr0A"
   },
   "source": [
    "##Some clarifications about gradient clearing\n",
    "We can see in the next portion of code that (as explained in the steps above) that before performing the backward pass for each batch we clear the gradients obtained for the previous batch during the previous backward pass using optimizer.zero_grad().\n",
    "Why we do that?\n",
    "Note that in our model each gradient calculus is independent for each batch.\n",
    "So for each batch we have an independent backward pass with independent gradients and so optimizers.\n",
    "It is possible in some implementation to use the previous batches gradients for calculating the current one despite we have different batches.\n",
    "This approach is called gradient accumulation and can be adopted for various reasons... like:\n",
    "- our task consists in analyzing long sequences of data that cannot be contained in a single batch (we could augment the batch dimension but we would lose small batches advantages)\n",
    "- use small batches in general because of limited storage (using gradient accumulation we are in someway reducing the independence between different batches)\n",
    "- regularizing the weight's adjustement. If during training a model processes a batch containing exceptionally a large set of outliers the weights could be updated too strongly (we would have too high weight's variance between different batches). \n",
    "\n",
    "Since we could be in one of these cases or other , Pytorch's implementation includes by default the storage of the previous batch's gradients."
   ]
  },
  {
   "cell_type": "code",
   "execution_count": null,
   "metadata": {
    "colab": {
     "base_uri": "https://localhost:8080/"
    },
    "id": "X8GNT0GrSKAX",
    "outputId": "12201483-818a-43ca-b386-61a75a270581"
   },
   "outputs": [
    {
     "name": "stdout",
     "output_type": "stream",
     "text": [
      "Epoch: 1 \tTraining Loss: 0.790039\n",
      "Epoch: 2 \tTraining Loss: 0.481358\n",
      "Epoch: 3 \tTraining Loss: 0.433367\n",
      "Epoch: 4 \tTraining Loss: 0.406927\n",
      "Epoch: 5 \tTraining Loss: 0.391280\n",
      "Epoch: 6 \tTraining Loss: 0.381667\n",
      "Epoch: 7 \tTraining Loss: 0.372668\n",
      "Epoch: 8 \tTraining Loss: 0.366637\n",
      "Epoch: 9 \tTraining Loss: 0.361499\n",
      "Epoch: 10 \tTraining Loss: 0.356329\n"
     ]
    }
   ],
   "source": [
    "# number of epochs to train the model\n",
    "n_epochs = 10  # suggest training between 20-50 epochs\n",
    "\n",
    "model.train() # prep model for training\n",
    "\n",
    "for epoch in range(n_epochs):\n",
    "    # monitor training loss\n",
    "    train_loss = 0.0\n",
    "    \n",
    "    ###################\n",
    "    # train the model #\n",
    "    ###################\n",
    "    for data, target in train_loader:\n",
    "        # clear the gradients of all optimized variables\n",
    "        optimizer.zero_grad() #** CLARIFICATIONS ABOVE\n",
    "        # forward pass: compute predicted outputs by passing inputs to the model\n",
    "        output = model(data)\n",
    "        # calculate the loss\n",
    "        loss = criterion(output, target)\n",
    "        # backward pass: compute gradient of the loss with respect to model parameters\n",
    "        loss.backward()\n",
    "        # perform a single optimization step (parameter update)\n",
    "        optimizer.step()\n",
    "        # update running training loss\n",
    "        train_loss += loss.item()*data.size(0)\n",
    "        \n",
    "    # print training statistics \n",
    "    # calculate average loss over an epoch\n",
    "    train_loss = train_loss/len(train_loader.dataset)\n",
    "\n",
    "    print('Epoch: {} \\tTraining Loss: {:.6f}'.format(\n",
    "        epoch+1, \n",
    "        train_loss\n",
    "        ))"
   ]
  },
  {
   "cell_type": "markdown",
   "metadata": {
    "id": "pzpL2e-lSK8D"
   },
   "source": [
    "## Inference\n",
    "\n",
    "Finally, we test our best model on previously unseen test data and evaluate its performances\n",
    "\n",
    "`model.eval()` will set all the layers in your model to evaluation mode. This affects layers like dropout layers that turn \"off\" nodes during training with some probability, but should allow every node to be \"on\" for evaluation!"
   ]
  },
  {
   "cell_type": "code",
   "execution_count": null,
   "metadata": {
    "colab": {
     "base_uri": "https://localhost:8080/"
    },
    "id": "IZZM1gqfSMF_",
    "outputId": "d9b570d4-a51a-40f1-ca70-4bd1aafa972b"
   },
   "outputs": [
    {
     "name": "stdout",
     "output_type": "stream",
     "text": [
      "Test Loss: 0.307578\n",
      "\n",
      "Test Accuracy of     0: 98% (962/980)\n",
      "Test Accuracy of     1: 97% (1102/1135)\n",
      "Test Accuracy of     2: 86% (896/1032)\n",
      "Test Accuracy of     3: 90% (912/1010)\n",
      "Test Accuracy of     4: 92% (909/982)\n",
      "Test Accuracy of     5: 86% (774/892)\n",
      "Test Accuracy of     6: 94% (909/958)\n",
      "Test Accuracy of     7: 91% (936/1028)\n",
      "Test Accuracy of     8: 89% (867/974)\n",
      "Test Accuracy of     9: 89% (904/1009)\n",
      "\n",
      "Test Accuracy (Overall): 91% (9171/10000)\n"
     ]
    }
   ],
   "source": [
    "# initialize lists to monitor test loss and accuracy\n",
    "test_loss = 0.0\n",
    "class_correct = list(0. for i in range(10))\n",
    "class_total = list(0. for i in range(10))\n",
    "\n",
    "model.eval() # prep model for *evaluation*\n",
    "\n",
    "for data, target in test_loader:\n",
    "    # forward pass: compute predicted outputs by passing inputs to the model\n",
    "    output = model(data)\n",
    "    # calculate the loss\n",
    "    loss = criterion(output, target)\n",
    "    # update test loss \n",
    "    test_loss += loss.item()*data.size(0)\n",
    "    # convert output probabilities to predicted class\n",
    "    _, pred = torch.max(output, 1)\n",
    "    # compare predictions to true label\n",
    "    correct = np.squeeze(pred.eq(target.data.view_as(pred)))\n",
    "    # calculate test accuracy for each object class\n",
    "    for i in range(len(target.data)):\n",
    "        label = target.data[i]\n",
    "        class_correct[label] += correct[i].item()\n",
    "        class_total[label] += 1\n",
    "\n",
    "# calculate and print avg test loss\n",
    "test_loss = test_loss/len(test_loader.dataset)\n",
    "print('Test Loss: {:.6f}\\n'.format(test_loss))\n",
    "\n",
    "for i in range(10):\n",
    "    if class_total[i] > 0:\n",
    "        print('Test Accuracy of %5s: %2d%% (%2d/%2d)' % (\n",
    "            str(i), 100 * class_correct[i] / class_total[i],\n",
    "            np.sum(class_correct[i]), np.sum(class_total[i])))\n",
    "    else:\n",
    "        print('Test Accuracy of %5s: N/A (no training examples)' % (class_total[i]))\n",
    "\n",
    "print('\\nTest Accuracy (Overall): %2d%% (%2d/%2d)' % (\n",
    "    100. * np.sum(class_correct) / np.sum(class_total),\n",
    "    np.sum(class_correct), np.sum(class_total)))"
   ]
  },
  {
   "cell_type": "markdown",
   "metadata": {
    "id": "seW9ArujSNFM"
   },
   "source": [
    "Here are the first 20 test digits the linear model classified, with the incorrect classification are in red"
   ]
  },
  {
   "cell_type": "code",
   "execution_count": null,
   "metadata": {
    "colab": {
     "base_uri": "https://localhost:8080/",
     "height": 327
    },
    "id": "S-gJC0EuSOmR",
    "outputId": "687ee6a4-466a-430c-d56f-399292411cf3"
   },
   "outputs": [
    {
     "data": {
      "image/png": "[encoded data removed]",
      "text/plain": [
       "<Figure size 2500x400 with 20 Axes>"
      ]
     },
     "metadata": {},
     "output_type": "display_data"
    }
   ],
   "source": [
    "# obtain one batch of test images\n",
    "dataiter = iter(test_loader)\n",
    "images, labels = next(dataiter)\n",
    "\n",
    "# get sample outputs\n",
    "output = model(images)\n",
    "# convert output probabilities to predicted class\n",
    "_, preds = torch.max(output, 1)\n",
    "# prep images for display\n",
    "images = images.numpy()\n",
    "\n",
    "# plot the images in the batch, along with predicted and true labels\n",
    "fig = plt.figure(figsize=(25, 4))\n",
    "for idx in np.arange(20):\n",
    "    ax = fig.add_subplot(2, int(20/2), idx+1, xticks=[], yticks=[])\n",
    "    ax.imshow(np.squeeze(images[idx]), cmap='gray')\n",
    "    ax.set_title(\"{} ({})\".format(str(preds[idx].item()), str(labels[idx].item())),\n",
    "                 color=(\"green\" if preds[idx]==labels[idx] else \"red\"))"
   ]
  },
  {
   "cell_type": "markdown",
   "metadata": {
    "id": "1toeL4vmC0zy"
   },
   "source": [
    "## Exercise 1\n",
    "\n",
    "Train the same model using the Fashion-MNIST (introduced at the beginning of this Notebook) dataset and try to optimize its performance."
   ]
  },
  {
   "cell_type": "markdown",
   "metadata": {
    "id": "jQU_vJGM2hf6"
   },
   "source": [
    "Load the Fashion-MNIST dataset..."
   ]
  },
  {
   "cell_type": "code",
   "execution_count": null,
   "metadata": {
    "colab": {
     "base_uri": "https://localhost:8080/"
    },
    "id": "PwVb4s-AU8yG",
    "outputId": "a07d7bef-ef33-4233-b98c-2a49b8b08728"
   },
   "outputs": [
    {
     "name": "stdout",
     "output_type": "stream",
     "text": [
      "Downloading http://fashion-mnist.s3-website.eu-central-1.amazonaws.com/train-images-idx3-ubyte.gz\n",
      "Downloading http://fashion-mnist.s3-website.eu-central-1.amazonaws.com/train-images-idx3-ubyte.gz to data/FashionMNIST/raw/train-images-idx3-ubyte.gz\n"
     ]
    },
    {
     "name": "stderr",
     "output_type": "stream",
     "text": [
      "100%|██████████| 26421880/26421880 [00:01<00:00, 16098574.70it/s]\n"
     ]
    },
    {
     "name": "stdout",
     "output_type": "stream",
     "text": [
      "Extracting data/FashionMNIST/raw/train-images-idx3-ubyte.gz to data/FashionMNIST/raw\n",
      "\n",
      "Downloading http://fashion-mnist.s3-website.eu-central-1.amazonaws.com/train-labels-idx1-ubyte.gz\n",
      "Downloading http://fashion-mnist.s3-website.eu-central-1.amazonaws.com/train-labels-idx1-ubyte.gz to data/FashionMNIST/raw/train-labels-idx1-ubyte.gz\n"
     ]
    },
    {
     "name": "stderr",
     "output_type": "stream",
     "text": [
      "100%|██████████| 29515/29515 [00:00<00:00, 274177.28it/s]\n"
     ]
    },
    {
     "name": "stdout",
     "output_type": "stream",
     "text": [
      "Extracting data/FashionMNIST/raw/train-labels-idx1-ubyte.gz to data/FashionMNIST/raw\n",
      "\n",
      "Downloading http://fashion-mnist.s3-website.eu-central-1.amazonaws.com/t10k-images-idx3-ubyte.gz\n",
      "Downloading http://fashion-mnist.s3-website.eu-central-1.amazonaws.com/t10k-images-idx3-ubyte.gz to data/FashionMNIST/raw/t10k-images-idx3-ubyte.gz\n"
     ]
    },
    {
     "name": "stderr",
     "output_type": "stream",
     "text": [
      "100%|██████████| 4422102/4422102 [00:00<00:00, 4992633.95it/s]\n"
     ]
    },
    {
     "name": "stdout",
     "output_type": "stream",
     "text": [
      "Extracting data/FashionMNIST/raw/t10k-images-idx3-ubyte.gz to data/FashionMNIST/raw\n",
      "\n",
      "Downloading http://fashion-mnist.s3-website.eu-central-1.amazonaws.com/t10k-labels-idx1-ubyte.gz\n",
      "Downloading http://fashion-mnist.s3-website.eu-central-1.amazonaws.com/t10k-labels-idx1-ubyte.gz to data/FashionMNIST/raw/t10k-labels-idx1-ubyte.gz\n"
     ]
    },
    {
     "name": "stderr",
     "output_type": "stream",
     "text": [
      "100%|██████████| 5148/5148 [00:00<00:00, 6883097.54it/s]"
     ]
    },
    {
     "name": "stdout",
     "output_type": "stream",
     "text": [
      "Extracting data/FashionMNIST/raw/t10k-labels-idx1-ubyte.gz to data/FashionMNIST/raw\n",
      "\n"
     ]
    },
    {
     "name": "stderr",
     "output_type": "stream",
     "text": [
      "\n"
     ]
    }
   ],
   "source": [
    "from torchvision import datasets\n",
    "import torchvision.transforms as transforms\n",
    "\n",
    "# number of subprocesses to use for data loading\n",
    "num_workers = 0\n",
    "# how many samples per batch to load\n",
    "batch_size = 32\n",
    "\n",
    "# convert data to torch.FloatTensor\n",
    "transform = transforms.ToTensor()\n",
    "\n",
    "# choose the training and test datasets\n",
    "train_data = datasets.FashionMNIST(root='data', train=True,\n",
    "                                   download=True, transform=transform)\n",
    "test_data = datasets.FashionMNIST(root='data', train=False,\n",
    "                                  download=True, transform=transform)\n",
    "\n",
    "# prepare data loaders\n",
    "train_loader = torch.utils.data.DataLoader(train_data, batch_size=batch_size, num_workers=num_workers)\n",
    "test_loader = torch.utils.data.DataLoader(test_data, batch_size=batch_size, num_workers=num_workers)"
   ]
  },
  {
   "cell_type": "code",
   "execution_count": null,
   "metadata": {
    "colab": {
     "base_uri": "https://localhost:8080/",
     "height": 327
    },
    "id": "BsIKwlXuVchp",
    "outputId": "626afe47-1da3-4cd0-fb23-6c89aefd7fee"
   },
   "outputs": [
    {
     "data": {
      "image/png": "[encoded data removed]",
      "text/plain": [
       "<Figure size 2500x400 with 20 Axes>"
      ]
     },
     "metadata": {},
     "output_type": "display_data"
    }
   ],
   "source": [
    "import matplotlib.pyplot as plt\n",
    "%matplotlib inline\n",
    "    \n",
    "# obtain one batch of training images\n",
    "dataiter = iter(train_loader)\n",
    "images, labels = next(dataiter)\n",
    "images = images.numpy()\n",
    "\n",
    "# plot the images in the batch, along with the corresponding labels\n",
    "fig = plt.figure(figsize=(25, 4))\n",
    "for idx in np.arange(20):\n",
    "    ax = fig.add_subplot(2, int(20/2), idx+1, xticks=[], yticks=[])\n",
    "    ax.imshow(np.squeeze(images[idx]), cmap='gray')\n",
    "    # print out the correct label for each image\n",
    "    # .item() gets the value contained in a Tensor\n",
    "    ax.set_title(str(labels[idx].item()))"
   ]
  },
  {
   "cell_type": "code",
   "execution_count": null,
   "metadata": {
    "colab": {
     "base_uri": "https://localhost:8080/",
     "height": 830
    },
    "id": "Q9YMgI_7Vm4Q",
    "outputId": "7d03d183-1eb2-41b4-d7b9-dbb95b2a0e85"
   },
   "outputs": [
    {
     "data": {
      "image/png": "[encoded data removed]",
      "text/plain": [
       "<Figure size 1000x1000 with 1 Axes>"
      ]
     },
     "metadata": {},
     "output_type": "display_data"
    }
   ],
   "source": [
    "img = np.squeeze(images[2])\n",
    "\n",
    "fig = plt.figure(figsize = (10,10)) \n",
    "ax = fig.add_subplot(111)\n",
    "ax.imshow(img, cmap='gray')\n",
    "width, height = img.shape\n",
    "thresh = img.max()/2.5\n",
    "for x in range(width):\n",
    "    for y in range(height):\n",
    "        val = round(img[x][y],2) if img[x][y] !=0 else 0\n",
    "        ax.annotate(str(val), xy=(y,x),\n",
    "                    horizontalalignment='center',\n",
    "                    verticalalignment='center',\n",
    "                    color='white' if img[x][y]<thresh else 'black')"
   ]
  },
  {
   "cell_type": "markdown",
   "metadata": {
    "id": "7Cxflejo2o0N"
   },
   "source": [
    "Define and initialise the model. The model will have the same hyperparametres of the previous one since MNIST's and FashionMNIST's elements have the same number of features (in fact they are both matrices 28*28) "
   ]
  },
  {
   "cell_type": "code",
   "execution_count": null,
   "metadata": {
    "colab": {
     "base_uri": "https://localhost:8080/"
    },
    "id": "vSJmeGNyV2Ke",
    "outputId": "df12bd94-3d22-4b79-81fc-6a5c992fe9dd"
   },
   "outputs": [
    {
     "name": "stdout",
     "output_type": "stream",
     "text": [
      "Net(\n",
      "  (fc): Linear(in_features=784, out_features=10, bias=True)\n",
      "  (dropout): Dropout(p=0.2, inplace=False)\n",
      ")\n"
     ]
    }
   ],
   "source": [
    "import torch.nn as nn\n",
    "import torch.nn.functional as F\n",
    "\n",
    "## Define the NN architecture\n",
    "class Net(nn.Module):\n",
    "    def __init__(self):\n",
    "        super(Net, self).__init__()\n",
    "        self.fc = nn.Linear(28 * 28, 10)\n",
    "    \n",
    "        self.dropout = nn.Dropout(0.2)\n",
    "\n",
    "    def forward(self, x):\n",
    "        # flatten image input\n",
    "        x = x.view(-1, 28 * 28)\n",
    "        # we can apply dropout\n",
    "        x = self.dropout(x)\n",
    "        # add hidden layer, with relu activation function\n",
    "        x = self.fc(x)\n",
    "        \n",
    "        return x\n",
    "\n",
    "# initialize the NN\n",
    "model = Net()\n",
    "print(model)"
   ]
  },
  {
   "cell_type": "markdown",
   "metadata": {
    "id": "Y7TotM723Xc2"
   },
   "source": [
    "Define the loss function and the optimizer..."
   ]
  },
  {
   "cell_type": "code",
   "execution_count": null,
   "metadata": {
    "id": "3ArJfxeSVm1f"
   },
   "outputs": [],
   "source": [
    "## Specify loss and optimization functions\n",
    "\n",
    "# specify loss function. NOTE: it contains the softmax so it is not needed to \n",
    "# implement it in the network definition\n",
    "criterion = nn.CrossEntropyLoss()\n",
    "\n",
    "# specify optimizer\n",
    "optimizer = torch.optim.SGD(model.parameters(), lr=0.01)"
   ]
  },
  {
   "cell_type": "markdown",
   "metadata": {
    "id": "xu2-nO8Q3fDx"
   },
   "source": [
    "Train the model for 10 epochs..."
   ]
  },
  {
   "cell_type": "code",
   "execution_count": null,
   "metadata": {
    "colab": {
     "base_uri": "https://localhost:8080/",
     "height": 1000
    },
    "id": "z5J5Ah9WXSLH",
    "outputId": "75a4dba3-f1e6-4e86-a061-2116b5914610"
   },
   "outputs": [
    {
     "name": "stdout",
     "output_type": "stream",
     "text": [
      "torch.Size([32])\n",
      "torch.Size([32])\n",
      "torch.Size([32])\n",
      "torch.Size([32])\n",
      "torch.Size([32])\n",
      "torch.Size([32])\n",
      "torch.Size([32])\n",
      "torch.Size([32])\n",
      "torch.Size([32])\n",
      "torch.Size([32])\n",
      "torch.Size([32])\n",
      "torch.Size([32])\n",
      "torch.Size([32])\n",
      "torch.Size([32])\n",
      "torch.Size([32])\n",
      "torch.Size([32])\n",
      "torch.Size([32])\n",
      "torch.Size([32])\n",
      "torch.Size([32])\n",
      "torch.Size([32])\n",
      "torch.Size([32])\n",
      "torch.Size([32])\n",
      "torch.Size([32])\n",
      "torch.Size([32])\n",
      "torch.Size([32])\n",
      "torch.Size([32])\n",
      "torch.Size([32])\n",
      "torch.Size([32])\n",
      "torch.Size([32])\n",
      "torch.Size([32])\n",
      "torch.Size([32])\n",
      "torch.Size([32])\n",
      "torch.Size([32])\n",
      "torch.Size([32])\n",
      "torch.Size([32])\n",
      "torch.Size([32])\n",
      "torch.Size([32])\n",
      "torch.Size([32])\n",
      "torch.Size([32])\n",
      "torch.Size([32])\n",
      "torch.Size([32])\n",
      "torch.Size([32])\n",
      "torch.Size([32])\n",
      "torch.Size([32])\n",
      "torch.Size([32])\n",
      "torch.Size([32])\n",
      "torch.Size([32])\n",
      "torch.Size([32])\n",
      "torch.Size([32])\n",
      "torch.Size([32])\n",
      "torch.Size([32])\n",
      "torch.Size([32])\n",
      "torch.Size([32])\n",
      "torch.Size([32])\n",
      "torch.Size([32])\n",
      "torch.Size([32])\n",
      "torch.Size([32])\n",
      "torch.Size([32])\n",
      "torch.Size([32])\n",
      "torch.Size([32])\n",
      "torch.Size([32])\n",
      "torch.Size([32])\n",
      "torch.Size([32])\n",
      "torch.Size([32])\n",
      "torch.Size([32])\n",
      "torch.Size([32])\n",
      "torch.Size([32])\n",
      "torch.Size([32])\n",
      "torch.Size([32])\n",
      "torch.Size([32])\n",
      "torch.Size([32])\n",
      "torch.Size([32])\n",
      "torch.Size([32])\n",
      "torch.Size([32])\n",
      "torch.Size([32])\n",
      "torch.Size([32])\n",
      "torch.Size([32])\n",
      "torch.Size([32])\n",
      "torch.Size([32])\n",
      "torch.Size([32])\n",
      "torch.Size([32])\n",
      "torch.Size([32])\n",
      "torch.Size([32])\n",
      "torch.Size([32])\n",
      "torch.Size([32])\n",
      "torch.Size([32])\n",
      "torch.Size([32])\n",
      "torch.Size([32])\n",
      "torch.Size([32])\n",
      "torch.Size([32])\n",
      "torch.Size([32])\n",
      "torch.Size([32])\n",
      "torch.Size([32])\n",
      "torch.Size([32])\n",
      "torch.Size([32])\n",
      "torch.Size([32])\n",
      "torch.Size([32])\n",
      "torch.Size([32])\n",
      "torch.Size([32])\n",
      "torch.Size([32])\n",
      "torch.Size([32])\n",
      "torch.Size([32])\n",
      "torch.Size([32])\n",
      "torch.Size([32])\n",
      "torch.Size([32])\n",
      "torch.Size([32])\n",
      "torch.Size([32])\n",
      "torch.Size([32])\n",
      "torch.Size([32])\n",
      "torch.Size([32])\n",
      "torch.Size([32])\n",
      "torch.Size([32])\n",
      "torch.Size([32])\n",
      "torch.Size([32])\n",
      "torch.Size([32])\n",
      "torch.Size([32])\n",
      "torch.Size([32])\n",
      "torch.Size([32])\n",
      "torch.Size([32])\n",
      "torch.Size([32])\n",
      "torch.Size([32])\n",
      "torch.Size([32])\n",
      "torch.Size([32])\n",
      "torch.Size([32])\n",
      "torch.Size([32])\n",
      "torch.Size([32])\n",
      "torch.Size([32])\n",
      "torch.Size([32])\n",
      "torch.Size([32])\n",
      "torch.Size([32])\n",
      "torch.Size([32])\n",
      "torch.Size([32])\n",
      "torch.Size([32])\n",
      "torch.Size([32])\n",
      "torch.Size([32])\n",
      "torch.Size([32])\n",
      "torch.Size([32])\n",
      "torch.Size([32])\n",
      "torch.Size([32])\n",
      "torch.Size([32])\n",
      "torch.Size([32])\n",
      "torch.Size([32])\n",
      "torch.Size([32])\n",
      "torch.Size([32])\n",
      "torch.Size([32])\n",
      "torch.Size([32])\n",
      "torch.Size([32])\n",
      "torch.Size([32])\n",
      "torch.Size([32])\n",
      "torch.Size([32])\n",
      "torch.Size([32])\n",
      "torch.Size([32])\n",
      "torch.Size([32])\n",
      "torch.Size([32])\n",
      "torch.Size([32])\n",
      "torch.Size([32])\n",
      "torch.Size([32])\n",
      "torch.Size([32])\n",
      "torch.Size([32])\n",
      "torch.Size([32])\n",
      "torch.Size([32])\n",
      "torch.Size([32])\n",
      "torch.Size([32])\n",
      "torch.Size([32])\n",
      "torch.Size([32])\n",
      "torch.Size([32])\n",
      "torch.Size([32])\n",
      "torch.Size([32])\n",
      "torch.Size([32])\n",
      "torch.Size([32])\n",
      "torch.Size([32])\n",
      "torch.Size([32])\n",
      "torch.Size([32])\n",
      "torch.Size([32])\n",
      "torch.Size([32])\n",
      "torch.Size([32])\n",
      "torch.Size([32])\n",
      "torch.Size([32])\n",
      "torch.Size([32])\n",
      "torch.Size([32])\n",
      "torch.Size([32])\n",
      "torch.Size([32])\n",
      "torch.Size([32])\n",
      "torch.Size([32])\n",
      "torch.Size([32])\n",
      "torch.Size([32])\n",
      "torch.Size([32])\n",
      "torch.Size([32])\n",
      "torch.Size([32])\n",
      "torch.Size([32])\n",
      "torch.Size([32])\n",
      "torch.Size([32])\n",
      "torch.Size([32])\n",
      "torch.Size([32])\n",
      "torch.Size([32])\n",
      "torch.Size([32])\n",
      "torch.Size([32])\n",
      "torch.Size([32])\n",
      "torch.Size([32])\n",
      "torch.Size([32])\n",
      "torch.Size([32])\n",
      "torch.Size([32])\n",
      "torch.Size([32])\n",
      "torch.Size([32])\n",
      "torch.Size([32])\n",
      "torch.Size([32])\n",
      "torch.Size([32])\n",
      "torch.Size([32])\n",
      "torch.Size([32])\n",
      "torch.Size([32])\n",
      "torch.Size([32])\n",
      "torch.Size([32])\n",
      "torch.Size([32])\n",
      "torch.Size([32])\n",
      "torch.Size([32])\n",
      "torch.Size([32])\n",
      "torch.Size([32])\n",
      "torch.Size([32])\n",
      "torch.Size([32])\n",
      "torch.Size([32])\n",
      "torch.Size([32])\n",
      "torch.Size([32])\n",
      "torch.Size([32])\n",
      "torch.Size([32])\n",
      "torch.Size([32])\n",
      "torch.Size([32])\n",
      "torch.Size([32])\n",
      "torch.Size([32])\n",
      "torch.Size([32])\n",
      "torch.Size([32])\n",
      "torch.Size([32])\n",
      "torch.Size([32])\n",
      "torch.Size([32])\n",
      "torch.Size([32])\n",
      "torch.Size([32])\n",
      "torch.Size([32])\n",
      "torch.Size([32])\n",
      "torch.Size([32])\n",
      "torch.Size([32])\n",
      "torch.Size([32])\n",
      "torch.Size([32])\n",
      "torch.Size([32])\n",
      "torch.Size([32])\n",
      "torch.Size([32])\n",
      "torch.Size([32])\n",
      "torch.Size([32])\n",
      "torch.Size([32])\n",
      "torch.Size([32])\n",
      "torch.Size([32])\n",
      "torch.Size([32])\n",
      "torch.Size([32])\n",
      "torch.Size([32])\n",
      "torch.Size([32])\n",
      "torch.Size([32])\n",
      "torch.Size([32])\n",
      "torch.Size([32])\n",
      "torch.Size([32])\n",
      "torch.Size([32])\n",
      "torch.Size([32])\n",
      "torch.Size([32])\n",
      "torch.Size([32])\n",
      "torch.Size([32])\n",
      "torch.Size([32])\n",
      "torch.Size([32])\n",
      "torch.Size([32])\n",
      "torch.Size([32])\n",
      "torch.Size([32])\n",
      "torch.Size([32])\n",
      "torch.Size([32])\n",
      "torch.Size([32])\n",
      "torch.Size([32])\n",
      "torch.Size([32])\n",
      "torch.Size([32])\n",
      "torch.Size([32])\n",
      "torch.Size([32])\n",
      "torch.Size([32])\n",
      "torch.Size([32])\n",
      "torch.Size([32])\n",
      "torch.Size([32])\n",
      "torch.Size([32])\n",
      "torch.Size([32])\n",
      "torch.Size([32])\n",
      "torch.Size([32])\n",
      "torch.Size([32])\n",
      "torch.Size([32])\n",
      "torch.Size([32])\n",
      "torch.Size([32])\n",
      "torch.Size([32])\n",
      "torch.Size([32])\n",
      "torch.Size([32])\n",
      "torch.Size([32])\n",
      "torch.Size([32])\n",
      "torch.Size([32])\n",
      "torch.Size([32])\n",
      "torch.Size([32])\n",
      "torch.Size([32])\n",
      "torch.Size([32])\n",
      "torch.Size([32])\n",
      "torch.Size([32])\n",
      "torch.Size([32])\n",
      "torch.Size([32])\n",
      "torch.Size([32])\n",
      "torch.Size([32])\n",
      "torch.Size([32])\n",
      "torch.Size([32])\n",
      "torch.Size([32])\n",
      "torch.Size([32])\n",
      "torch.Size([32])\n",
      "torch.Size([32])\n",
      "torch.Size([32])\n",
      "torch.Size([32])\n",
      "torch.Size([32])\n",
      "torch.Size([32])\n",
      "torch.Size([32])\n",
      "torch.Size([32])\n",
      "torch.Size([32])\n",
      "torch.Size([32])\n",
      "torch.Size([32])\n",
      "torch.Size([32])\n",
      "torch.Size([32])\n",
      "torch.Size([32])\n",
      "torch.Size([32])\n",
      "torch.Size([32])\n",
      "torch.Size([32])\n",
      "torch.Size([32])\n",
      "torch.Size([32])\n",
      "torch.Size([32])\n",
      "torch.Size([32])\n",
      "torch.Size([32])\n",
      "torch.Size([32])\n",
      "torch.Size([32])\n",
      "torch.Size([32])\n",
      "torch.Size([32])\n",
      "torch.Size([32])\n",
      "torch.Size([32])\n",
      "torch.Size([32])\n",
      "torch.Size([32])\n",
      "torch.Size([32])\n",
      "torch.Size([32])\n",
      "torch.Size([32])\n",
      "torch.Size([32])\n",
      "torch.Size([32])\n",
      "torch.Size([32])\n",
      "torch.Size([32])\n",
      "torch.Size([32])\n",
      "torch.Size([32])\n",
      "torch.Size([32])\n",
      "torch.Size([32])\n",
      "torch.Size([32])\n",
      "torch.Size([32])\n",
      "torch.Size([32])\n",
      "torch.Size([32])\n",
      "torch.Size([32])\n",
      "torch.Size([32])\n",
      "torch.Size([32])\n",
      "torch.Size([32])\n",
      "torch.Size([32])\n",
      "torch.Size([32])\n",
      "torch.Size([32])\n",
      "torch.Size([32])\n",
      "torch.Size([32])\n",
      "torch.Size([32])\n",
      "torch.Size([32])\n",
      "torch.Size([32])\n",
      "torch.Size([32])\n",
      "torch.Size([32])\n",
      "torch.Size([32])\n",
      "torch.Size([32])\n",
      "torch.Size([32])\n",
      "torch.Size([32])\n",
      "torch.Size([32])\n",
      "torch.Size([32])\n",
      "torch.Size([32])\n",
      "torch.Size([32])\n",
      "torch.Size([32])\n",
      "torch.Size([32])\n",
      "torch.Size([32])\n",
      "torch.Size([32])\n",
      "torch.Size([32])\n",
      "torch.Size([32])\n",
      "torch.Size([32])\n",
      "torch.Size([32])\n",
      "torch.Size([32])\n",
      "torch.Size([32])\n",
      "torch.Size([32])\n",
      "torch.Size([32])\n",
      "torch.Size([32])\n",
      "torch.Size([32])\n",
      "torch.Size([32])\n",
      "torch.Size([32])\n",
      "torch.Size([32])\n",
      "torch.Size([32])\n",
      "torch.Size([32])\n",
      "torch.Size([32])\n",
      "torch.Size([32])\n",
      "torch.Size([32])\n",
      "torch.Size([32])\n",
      "torch.Size([32])\n",
      "torch.Size([32])\n",
      "torch.Size([32])\n",
      "torch.Size([32])\n",
      "torch.Size([32])\n",
      "torch.Size([32])\n",
      "torch.Size([32])\n",
      "torch.Size([32])\n",
      "torch.Size([32])\n",
      "torch.Size([32])\n",
      "torch.Size([32])\n",
      "torch.Size([32])\n",
      "torch.Size([32])\n",
      "torch.Size([32])\n",
      "torch.Size([32])\n",
      "torch.Size([32])\n",
      "torch.Size([32])\n",
      "torch.Size([32])\n",
      "torch.Size([32])\n",
      "torch.Size([32])\n",
      "torch.Size([32])\n",
      "torch.Size([32])\n",
      "torch.Size([32])\n",
      "torch.Size([32])\n",
      "torch.Size([32])\n",
      "torch.Size([32])\n",
      "torch.Size([32])\n",
      "torch.Size([32])\n",
      "torch.Size([32])\n",
      "torch.Size([32])\n",
      "torch.Size([32])\n",
      "torch.Size([32])\n",
      "torch.Size([32])\n",
      "torch.Size([32])\n",
      "torch.Size([32])\n",
      "torch.Size([32])\n",
      "torch.Size([32])\n",
      "torch.Size([32])\n",
      "torch.Size([32])\n",
      "torch.Size([32])\n",
      "torch.Size([32])\n",
      "torch.Size([32])\n",
      "torch.Size([32])\n",
      "torch.Size([32])\n",
      "torch.Size([32])\n",
      "torch.Size([32])\n",
      "torch.Size([32])\n",
      "torch.Size([32])\n",
      "torch.Size([32])\n",
      "torch.Size([32])\n",
      "torch.Size([32])\n",
      "torch.Size([32])\n",
      "torch.Size([32])\n",
      "torch.Size([32])\n",
      "torch.Size([32])\n",
      "torch.Size([32])\n",
      "torch.Size([32])\n",
      "torch.Size([32])\n",
      "torch.Size([32])\n",
      "torch.Size([32])\n",
      "torch.Size([32])\n",
      "torch.Size([32])\n",
      "torch.Size([32])\n",
      "torch.Size([32])\n",
      "torch.Size([32])\n",
      "torch.Size([32])\n",
      "torch.Size([32])\n",
      "torch.Size([32])\n",
      "torch.Size([32])\n",
      "torch.Size([32])\n",
      "torch.Size([32])\n",
      "torch.Size([32])\n",
      "torch.Size([32])\n",
      "torch.Size([32])\n",
      "torch.Size([32])\n",
      "torch.Size([32])\n",
      "torch.Size([32])\n",
      "torch.Size([32])\n",
      "torch.Size([32])\n",
      "torch.Size([32])\n",
      "torch.Size([32])\n",
      "torch.Size([32])\n",
      "torch.Size([32])\n",
      "torch.Size([32])\n",
      "torch.Size([32])\n",
      "torch.Size([32])\n",
      "torch.Size([32])\n",
      "torch.Size([32])\n",
      "torch.Size([32])\n",
      "torch.Size([32])\n",
      "torch.Size([32])\n",
      "torch.Size([32])\n",
      "torch.Size([32])\n",
      "torch.Size([32])\n",
      "torch.Size([32])\n",
      "torch.Size([32])\n",
      "torch.Size([32])\n",
      "torch.Size([32])\n",
      "torch.Size([32])\n",
      "torch.Size([32])\n",
      "torch.Size([32])\n",
      "torch.Size([32])\n",
      "torch.Size([32])\n",
      "torch.Size([32])\n",
      "torch.Size([32])\n",
      "torch.Size([32])\n",
      "torch.Size([32])\n",
      "torch.Size([32])\n",
      "torch.Size([32])\n",
      "torch.Size([32])\n",
      "torch.Size([32])\n",
      "torch.Size([32])\n",
      "torch.Size([32])\n",
      "torch.Size([32])\n",
      "torch.Size([32])\n",
      "torch.Size([32])\n",
      "torch.Size([32])\n",
      "torch.Size([32])\n",
      "torch.Size([32])\n",
      "torch.Size([32])\n",
      "torch.Size([32])\n",
      "torch.Size([32])\n",
      "torch.Size([32])\n",
      "torch.Size([32])\n",
      "torch.Size([32])\n",
      "torch.Size([32])\n",
      "torch.Size([32])\n",
      "torch.Size([32])\n",
      "torch.Size([32])\n",
      "torch.Size([32])\n",
      "torch.Size([32])\n",
      "torch.Size([32])\n",
      "torch.Size([32])\n",
      "torch.Size([32])\n",
      "torch.Size([32])\n",
      "torch.Size([32])\n",
      "torch.Size([32])\n",
      "torch.Size([32])\n",
      "torch.Size([32])\n",
      "torch.Size([32])\n",
      "torch.Size([32])\n",
      "torch.Size([32])\n",
      "torch.Size([32])\n",
      "torch.Size([32])\n",
      "torch.Size([32])\n",
      "torch.Size([32])\n",
      "torch.Size([32])\n",
      "torch.Size([32])\n",
      "torch.Size([32])\n",
      "torch.Size([32])\n",
      "torch.Size([32])\n",
      "torch.Size([32])\n",
      "torch.Size([32])\n",
      "torch.Size([32])\n",
      "torch.Size([32])\n",
      "torch.Size([32])\n",
      "torch.Size([32])\n",
      "torch.Size([32])\n",
      "torch.Size([32])\n",
      "torch.Size([32])\n",
      "torch.Size([32])\n",
      "torch.Size([32])\n",
      "torch.Size([32])\n",
      "torch.Size([32])\n",
      "torch.Size([32])\n",
      "torch.Size([32])\n",
      "torch.Size([32])\n",
      "torch.Size([32])\n",
      "torch.Size([32])\n",
      "torch.Size([32])\n",
      "torch.Size([32])\n",
      "torch.Size([32])\n",
      "torch.Size([32])\n",
      "torch.Size([32])\n",
      "torch.Size([32])\n",
      "torch.Size([32])\n",
      "torch.Size([32])\n",
      "torch.Size([32])\n",
      "torch.Size([32])\n",
      "torch.Size([32])\n",
      "torch.Size([32])\n",
      "torch.Size([32])\n",
      "torch.Size([32])\n",
      "torch.Size([32])\n",
      "torch.Size([32])\n",
      "torch.Size([32])\n",
      "torch.Size([32])\n",
      "torch.Size([32])\n",
      "torch.Size([32])\n",
      "torch.Size([32])\n",
      "torch.Size([32])\n",
      "torch.Size([32])\n",
      "torch.Size([32])\n",
      "torch.Size([32])\n",
      "torch.Size([32])\n",
      "torch.Size([32])\n",
      "torch.Size([32])\n",
      "torch.Size([32])\n",
      "torch.Size([32])\n",
      "torch.Size([32])\n",
      "torch.Size([32])\n",
      "torch.Size([32])\n",
      "torch.Size([32])\n",
      "torch.Size([32])\n",
      "torch.Size([32])\n",
      "torch.Size([32])\n",
      "torch.Size([32])\n",
      "torch.Size([32])\n",
      "torch.Size([32])\n",
      "torch.Size([32])\n",
      "torch.Size([32])\n",
      "torch.Size([32])\n",
      "torch.Size([32])\n",
      "torch.Size([32])\n",
      "torch.Size([32])\n",
      "torch.Size([32])\n",
      "torch.Size([32])\n",
      "torch.Size([32])\n",
      "torch.Size([32])\n",
      "torch.Size([32])\n",
      "torch.Size([32])\n",
      "torch.Size([32])\n",
      "torch.Size([32])\n",
      "torch.Size([32])\n",
      "torch.Size([32])\n",
      "torch.Size([32])\n",
      "torch.Size([32])\n",
      "torch.Size([32])\n",
      "torch.Size([32])\n",
      "torch.Size([32])\n",
      "torch.Size([32])\n",
      "torch.Size([32])\n",
      "torch.Size([32])\n",
      "torch.Size([32])\n",
      "torch.Size([32])\n",
      "torch.Size([32])\n",
      "torch.Size([32])\n",
      "torch.Size([32])\n",
      "torch.Size([32])\n",
      "torch.Size([32])\n",
      "torch.Size([32])\n",
      "torch.Size([32])\n",
      "torch.Size([32])\n",
      "torch.Size([32])\n",
      "torch.Size([32])\n",
      "torch.Size([32])\n",
      "torch.Size([32])\n",
      "torch.Size([32])\n",
      "torch.Size([32])\n",
      "torch.Size([32])\n",
      "torch.Size([32])\n",
      "torch.Size([32])\n",
      "torch.Size([32])\n",
      "torch.Size([32])\n",
      "torch.Size([32])\n",
      "torch.Size([32])\n",
      "torch.Size([32])\n",
      "torch.Size([32])\n",
      "torch.Size([32])\n",
      "torch.Size([32])\n",
      "torch.Size([32])\n",
      "torch.Size([32])\n",
      "torch.Size([32])\n",
      "torch.Size([32])\n",
      "torch.Size([32])\n",
      "torch.Size([32])\n",
      "torch.Size([32])\n",
      "torch.Size([32])\n",
      "torch.Size([32])\n",
      "torch.Size([32])\n",
      "torch.Size([32])\n",
      "torch.Size([32])\n",
      "torch.Size([32])\n",
      "torch.Size([32])\n",
      "torch.Size([32])\n",
      "torch.Size([32])\n",
      "torch.Size([32])\n",
      "torch.Size([32])\n",
      "torch.Size([32])\n",
      "torch.Size([32])\n",
      "torch.Size([32])\n",
      "torch.Size([32])\n",
      "torch.Size([32])\n",
      "torch.Size([32])\n",
      "torch.Size([32])\n",
      "torch.Size([32])\n",
      "torch.Size([32])\n",
      "torch.Size([32])\n",
      "torch.Size([32])\n",
      "torch.Size([32])\n",
      "torch.Size([32])\n",
      "torch.Size([32])\n",
      "torch.Size([32])\n",
      "torch.Size([32])\n",
      "torch.Size([32])\n",
      "torch.Size([32])\n",
      "torch.Size([32])\n",
      "torch.Size([32])\n",
      "torch.Size([32])\n",
      "torch.Size([32])\n",
      "torch.Size([32])\n",
      "torch.Size([32])\n",
      "torch.Size([32])\n",
      "torch.Size([32])\n",
      "torch.Size([32])\n",
      "torch.Size([32])\n",
      "torch.Size([32])\n",
      "torch.Size([32])\n",
      "torch.Size([32])\n",
      "torch.Size([32])\n",
      "torch.Size([32])\n",
      "torch.Size([32])\n",
      "torch.Size([32])\n",
      "torch.Size([32])\n",
      "torch.Size([32])\n",
      "torch.Size([32])\n",
      "torch.Size([32])\n",
      "torch.Size([32])\n",
      "torch.Size([32])\n",
      "torch.Size([32])\n",
      "torch.Size([32])\n",
      "torch.Size([32])\n",
      "torch.Size([32])\n",
      "torch.Size([32])\n",
      "torch.Size([32])\n",
      "torch.Size([32])\n",
      "torch.Size([32])\n",
      "torch.Size([32])\n",
      "torch.Size([32])\n",
      "torch.Size([32])\n",
      "torch.Size([32])\n",
      "torch.Size([32])\n",
      "torch.Size([32])\n",
      "torch.Size([32])\n",
      "torch.Size([32])\n",
      "torch.Size([32])\n",
      "torch.Size([32])\n",
      "torch.Size([32])\n",
      "torch.Size([32])\n",
      "torch.Size([32])\n",
      "torch.Size([32])\n",
      "torch.Size([32])\n",
      "torch.Size([32])\n",
      "torch.Size([32])\n",
      "torch.Size([32])\n",
      "torch.Size([32])\n",
      "torch.Size([32])\n",
      "torch.Size([32])\n",
      "torch.Size([32])\n",
      "torch.Size([32])\n",
      "torch.Size([32])\n",
      "torch.Size([32])\n",
      "torch.Size([32])\n",
      "torch.Size([32])\n",
      "torch.Size([32])\n",
      "torch.Size([32])\n",
      "torch.Size([32])\n",
      "torch.Size([32])\n",
      "torch.Size([32])\n",
      "torch.Size([32])\n",
      "torch.Size([32])\n",
      "torch.Size([32])\n",
      "torch.Size([32])\n",
      "torch.Size([32])\n",
      "torch.Size([32])\n",
      "torch.Size([32])\n",
      "torch.Size([32])\n",
      "torch.Size([32])\n",
      "torch.Size([32])\n",
      "torch.Size([32])\n",
      "torch.Size([32])\n",
      "torch.Size([32])\n",
      "torch.Size([32])\n",
      "torch.Size([32])\n",
      "torch.Size([32])\n",
      "torch.Size([32])\n",
      "torch.Size([32])\n",
      "torch.Size([32])\n",
      "torch.Size([32])\n",
      "torch.Size([32])\n",
      "torch.Size([32])\n",
      "torch.Size([32])\n",
      "torch.Size([32])\n",
      "torch.Size([32])\n",
      "torch.Size([32])\n",
      "torch.Size([32])\n",
      "torch.Size([32])\n",
      "torch.Size([32])\n",
      "torch.Size([32])\n",
      "torch.Size([32])\n",
      "torch.Size([32])\n",
      "torch.Size([32])\n",
      "torch.Size([32])\n",
      "torch.Size([32])\n",
      "torch.Size([32])\n",
      "torch.Size([32])\n",
      "torch.Size([32])\n",
      "torch.Size([32])\n",
      "torch.Size([32])\n",
      "torch.Size([32])\n",
      "torch.Size([32])\n",
      "torch.Size([32])\n",
      "torch.Size([32])\n",
      "torch.Size([32])\n",
      "torch.Size([32])\n",
      "torch.Size([32])\n",
      "torch.Size([32])\n",
      "torch.Size([32])\n",
      "torch.Size([32])\n",
      "torch.Size([32])\n",
      "torch.Size([32])\n",
      "torch.Size([32])\n",
      "torch.Size([32])\n",
      "torch.Size([32])\n",
      "torch.Size([32])\n",
      "torch.Size([32])\n",
      "torch.Size([32])\n",
      "torch.Size([32])\n",
      "torch.Size([32])\n",
      "torch.Size([32])\n",
      "torch.Size([32])\n",
      "torch.Size([32])\n",
      "torch.Size([32])\n",
      "torch.Size([32])\n",
      "torch.Size([32])\n",
      "torch.Size([32])\n",
      "torch.Size([32])\n",
      "torch.Size([32])\n",
      "torch.Size([32])\n",
      "torch.Size([32])\n",
      "torch.Size([32])\n",
      "torch.Size([32])\n",
      "torch.Size([32])\n",
      "torch.Size([32])\n",
      "torch.Size([32])\n",
      "torch.Size([32])\n",
      "torch.Size([32])\n",
      "torch.Size([32])\n",
      "torch.Size([32])\n",
      "torch.Size([32])\n",
      "torch.Size([32])\n",
      "torch.Size([32])\n",
      "torch.Size([32])\n",
      "torch.Size([32])\n",
      "torch.Size([32])\n",
      "torch.Size([32])\n",
      "torch.Size([32])\n",
      "torch.Size([32])\n",
      "torch.Size([32])\n",
      "torch.Size([32])\n",
      "torch.Size([32])\n",
      "torch.Size([32])\n",
      "torch.Size([32])\n",
      "torch.Size([32])\n",
      "torch.Size([32])\n",
      "torch.Size([32])\n",
      "torch.Size([32])\n",
      "torch.Size([32])\n",
      "torch.Size([32])\n",
      "torch.Size([32])\n",
      "torch.Size([32])\n",
      "torch.Size([32])\n",
      "torch.Size([32])\n",
      "torch.Size([32])\n",
      "torch.Size([32])\n",
      "torch.Size([32])\n",
      "torch.Size([32])\n",
      "torch.Size([32])\n",
      "torch.Size([32])\n",
      "torch.Size([32])\n",
      "torch.Size([32])\n",
      "torch.Size([32])\n",
      "torch.Size([32])\n",
      "torch.Size([32])\n",
      "torch.Size([32])\n",
      "torch.Size([32])\n",
      "torch.Size([32])\n",
      "torch.Size([32])\n",
      "torch.Size([32])\n",
      "torch.Size([32])\n",
      "torch.Size([32])\n",
      "torch.Size([32])\n",
      "torch.Size([32])\n",
      "torch.Size([32])\n",
      "torch.Size([32])\n",
      "torch.Size([32])\n",
      "torch.Size([32])\n",
      "torch.Size([32])\n",
      "torch.Size([32])\n",
      "torch.Size([32])\n",
      "torch.Size([32])\n",
      "torch.Size([32])\n",
      "torch.Size([32])\n",
      "torch.Size([32])\n",
      "torch.Size([32])\n",
      "torch.Size([32])\n",
      "torch.Size([32])\n",
      "torch.Size([32])\n",
      "torch.Size([32])\n",
      "torch.Size([32])\n",
      "torch.Size([32])\n",
      "torch.Size([32])\n",
      "torch.Size([32])\n",
      "torch.Size([32])\n",
      "torch.Size([32])\n",
      "torch.Size([32])\n",
      "torch.Size([32])\n",
      "torch.Size([32])\n",
      "torch.Size([32])\n",
      "torch.Size([32])\n",
      "torch.Size([32])\n",
      "torch.Size([32])\n",
      "torch.Size([32])\n",
      "torch.Size([32])\n",
      "torch.Size([32])\n",
      "torch.Size([32])\n",
      "torch.Size([32])\n",
      "torch.Size([32])\n",
      "torch.Size([32])\n",
      "torch.Size([32])\n",
      "torch.Size([32])\n",
      "torch.Size([32])\n",
      "torch.Size([32])\n",
      "torch.Size([32])\n",
      "torch.Size([32])\n",
      "torch.Size([32])\n",
      "torch.Size([32])\n",
      "torch.Size([32])\n",
      "torch.Size([32])\n",
      "torch.Size([32])\n",
      "torch.Size([32])\n",
      "torch.Size([32])\n",
      "torch.Size([32])\n",
      "torch.Size([32])\n",
      "torch.Size([32])\n",
      "torch.Size([32])\n",
      "torch.Size([32])\n",
      "torch.Size([32])\n",
      "torch.Size([32])\n",
      "torch.Size([32])\n",
      "torch.Size([32])\n",
      "torch.Size([32])\n",
      "torch.Size([32])\n",
      "torch.Size([32])\n",
      "torch.Size([32])\n",
      "torch.Size([32])\n",
      "torch.Size([32])\n",
      "torch.Size([32])\n"
     ]
    },
    {
     "ename": "KeyboardInterrupt",
     "evalue": "ignored",
     "output_type": "error",
     "traceback": [
      "\u001b[0;31m---------------------------------------------------------------------------\u001b[0m",
      "\u001b[0;31mKeyboardInterrupt\u001b[0m                         Traceback (most recent call last)",
      "\u001b[0;32m<ipython-input-258-7a211d64b2d9>\u001b[0m in \u001b[0;36m<cell line: 6>\u001b[0;34m()\u001b[0m\n\u001b[1;32m     11\u001b[0m     \u001b[0;31m# train the model #\u001b[0m\u001b[0;34m\u001b[0m\u001b[0;34m\u001b[0m\u001b[0m\n\u001b[1;32m     12\u001b[0m     \u001b[0;31m###################\u001b[0m\u001b[0;34m\u001b[0m\u001b[0;34m\u001b[0m\u001b[0m\n\u001b[0;32m---> 13\u001b[0;31m     \u001b[0;32mfor\u001b[0m \u001b[0mdata\u001b[0m\u001b[0;34m,\u001b[0m \u001b[0mtarget\u001b[0m \u001b[0;32min\u001b[0m \u001b[0mtrain_loader\u001b[0m\u001b[0;34m:\u001b[0m\u001b[0;34m\u001b[0m\u001b[0;34m\u001b[0m\u001b[0m\n\u001b[0m\u001b[1;32m     14\u001b[0m         \u001b[0;31m# clear the gradients of all optimized variables\u001b[0m\u001b[0;34m\u001b[0m\u001b[0;34m\u001b[0m\u001b[0m\n\u001b[1;32m     15\u001b[0m         \u001b[0moptimizer\u001b[0m\u001b[0;34m.\u001b[0m\u001b[0mzero_grad\u001b[0m\u001b[0;34m(\u001b[0m\u001b[0;34m)\u001b[0m \u001b[0;31m#** CLARIFICATIONS ABOVE\u001b[0m\u001b[0;34m\u001b[0m\u001b[0;34m\u001b[0m\u001b[0m\n",
      "\u001b[0;32m/usr/local/lib/python3.10/dist-packages/torch/utils/data/dataloader.py\u001b[0m in \u001b[0;36m__next__\u001b[0;34m(self)\u001b[0m\n\u001b[1;32m    631\u001b[0m                 \u001b[0;31m# TODO(https://github.com/pytorch/pytorch/issues/76750)\u001b[0m\u001b[0;34m\u001b[0m\u001b[0;34m\u001b[0m\u001b[0m\n\u001b[1;32m    632\u001b[0m                 \u001b[0mself\u001b[0m\u001b[0;34m.\u001b[0m\u001b[0m_reset\u001b[0m\u001b[0;34m(\u001b[0m\u001b[0;34m)\u001b[0m  \u001b[0;31m# type: ignore[call-arg]\u001b[0m\u001b[0;34m\u001b[0m\u001b[0;34m\u001b[0m\u001b[0m\n\u001b[0;32m--> 633\u001b[0;31m             \u001b[0mdata\u001b[0m \u001b[0;34m=\u001b[0m \u001b[0mself\u001b[0m\u001b[0;34m.\u001b[0m\u001b[0m_next_data\u001b[0m\u001b[0;34m(\u001b[0m\u001b[0;34m)\u001b[0m\u001b[0;34m\u001b[0m\u001b[0;34m\u001b[0m\u001b[0m\n\u001b[0m\u001b[1;32m    634\u001b[0m             \u001b[0mself\u001b[0m\u001b[0;34m.\u001b[0m\u001b[0m_num_yielded\u001b[0m \u001b[0;34m+=\u001b[0m \u001b[0;36m1\u001b[0m\u001b[0;34m\u001b[0m\u001b[0;34m\u001b[0m\u001b[0m\n\u001b[1;32m    635\u001b[0m             \u001b[0;32mif\u001b[0m \u001b[0mself\u001b[0m\u001b[0;34m.\u001b[0m\u001b[0m_dataset_kind\u001b[0m \u001b[0;34m==\u001b[0m \u001b[0m_DatasetKind\u001b[0m\u001b[0;34m.\u001b[0m\u001b[0mIterable\u001b[0m \u001b[0;32mand\u001b[0m\u001b[0;31m \u001b[0m\u001b[0;31m\\\u001b[0m\u001b[0;34m\u001b[0m\u001b[0;34m\u001b[0m\u001b[0m\n",
      "\u001b[0;32m/usr/local/lib/python3.10/dist-packages/torch/utils/data/dataloader.py\u001b[0m in \u001b[0;36m_next_data\u001b[0;34m(self)\u001b[0m\n\u001b[1;32m    675\u001b[0m     \u001b[0;32mdef\u001b[0m \u001b[0m_next_data\u001b[0m\u001b[0;34m(\u001b[0m\u001b[0mself\u001b[0m\u001b[0;34m)\u001b[0m\u001b[0;34m:\u001b[0m\u001b[0;34m\u001b[0m\u001b[0;34m\u001b[0m\u001b[0m\n\u001b[1;32m    676\u001b[0m         \u001b[0mindex\u001b[0m \u001b[0;34m=\u001b[0m \u001b[0mself\u001b[0m\u001b[0;34m.\u001b[0m\u001b[0m_next_index\u001b[0m\u001b[0;34m(\u001b[0m\u001b[0;34m)\u001b[0m  \u001b[0;31m# may raise StopIteration\u001b[0m\u001b[0;34m\u001b[0m\u001b[0;34m\u001b[0m\u001b[0m\n\u001b[0;32m--> 677\u001b[0;31m         \u001b[0mdata\u001b[0m \u001b[0;34m=\u001b[0m \u001b[0mself\u001b[0m\u001b[0;34m.\u001b[0m\u001b[0m_dataset_fetcher\u001b[0m\u001b[0;34m.\u001b[0m\u001b[0mfetch\u001b[0m\u001b[0;34m(\u001b[0m\u001b[0mindex\u001b[0m\u001b[0;34m)\u001b[0m  \u001b[0;31m# may raise StopIteration\u001b[0m\u001b[0;34m\u001b[0m\u001b[0;34m\u001b[0m\u001b[0m\n\u001b[0m\u001b[1;32m    678\u001b[0m         \u001b[0;32mif\u001b[0m \u001b[0mself\u001b[0m\u001b[0;34m.\u001b[0m\u001b[0m_pin_memory\u001b[0m\u001b[0;34m:\u001b[0m\u001b[0;34m\u001b[0m\u001b[0;34m\u001b[0m\u001b[0m\n\u001b[1;32m    679\u001b[0m             \u001b[0mdata\u001b[0m \u001b[0;34m=\u001b[0m \u001b[0m_utils\u001b[0m\u001b[0;34m.\u001b[0m\u001b[0mpin_memory\u001b[0m\u001b[0;34m.\u001b[0m\u001b[0mpin_memory\u001b[0m\u001b[0;34m(\u001b[0m\u001b[0mdata\u001b[0m\u001b[0;34m,\u001b[0m \u001b[0mself\u001b[0m\u001b[0;34m.\u001b[0m\u001b[0m_pin_memory_device\u001b[0m\u001b[0;34m)\u001b[0m\u001b[0;34m\u001b[0m\u001b[0;34m\u001b[0m\u001b[0m\n",
      "\u001b[0;32m/usr/local/lib/python3.10/dist-packages/torch/utils/data/_utils/fetch.py\u001b[0m in \u001b[0;36mfetch\u001b[0;34m(self, possibly_batched_index)\u001b[0m\n\u001b[1;32m     49\u001b[0m                 \u001b[0mdata\u001b[0m \u001b[0;34m=\u001b[0m \u001b[0mself\u001b[0m\u001b[0;34m.\u001b[0m\u001b[0mdataset\u001b[0m\u001b[0;34m.\u001b[0m\u001b[0m__getitems__\u001b[0m\u001b[0;34m(\u001b[0m\u001b[0mpossibly_batched_index\u001b[0m\u001b[0;34m)\u001b[0m\u001b[0;34m\u001b[0m\u001b[0;34m\u001b[0m\u001b[0m\n\u001b[1;32m     50\u001b[0m             \u001b[0;32melse\u001b[0m\u001b[0;34m:\u001b[0m\u001b[0;34m\u001b[0m\u001b[0;34m\u001b[0m\u001b[0m\n\u001b[0;32m---> 51\u001b[0;31m                 \u001b[0mdata\u001b[0m \u001b[0;34m=\u001b[0m \u001b[0;34m[\u001b[0m\u001b[0mself\u001b[0m\u001b[0;34m.\u001b[0m\u001b[0mdataset\u001b[0m\u001b[0;34m[\u001b[0m\u001b[0midx\u001b[0m\u001b[0;34m]\u001b[0m \u001b[0;32mfor\u001b[0m \u001b[0midx\u001b[0m \u001b[0;32min\u001b[0m \u001b[0mpossibly_batched_index\u001b[0m\u001b[0;34m]\u001b[0m\u001b[0;34m\u001b[0m\u001b[0;34m\u001b[0m\u001b[0m\n\u001b[0m\u001b[1;32m     52\u001b[0m         \u001b[0;32melse\u001b[0m\u001b[0;34m:\u001b[0m\u001b[0;34m\u001b[0m\u001b[0;34m\u001b[0m\u001b[0m\n\u001b[1;32m     53\u001b[0m             \u001b[0mdata\u001b[0m \u001b[0;34m=\u001b[0m \u001b[0mself\u001b[0m\u001b[0;34m.\u001b[0m\u001b[0mdataset\u001b[0m\u001b[0;34m[\u001b[0m\u001b[0mpossibly_batched_index\u001b[0m\u001b[0;34m]\u001b[0m\u001b[0;34m\u001b[0m\u001b[0;34m\u001b[0m\u001b[0m\n",
      "\u001b[0;32m/usr/local/lib/python3.10/dist-packages/torch/utils/data/_utils/fetch.py\u001b[0m in \u001b[0;36m<listcomp>\u001b[0;34m(.0)\u001b[0m\n\u001b[1;32m     49\u001b[0m                 \u001b[0mdata\u001b[0m \u001b[0;34m=\u001b[0m \u001b[0mself\u001b[0m\u001b[0;34m.\u001b[0m\u001b[0mdataset\u001b[0m\u001b[0;34m.\u001b[0m\u001b[0m__getitems__\u001b[0m\u001b[0;34m(\u001b[0m\u001b[0mpossibly_batched_index\u001b[0m\u001b[0;34m)\u001b[0m\u001b[0;34m\u001b[0m\u001b[0;34m\u001b[0m\u001b[0m\n\u001b[1;32m     50\u001b[0m             \u001b[0;32melse\u001b[0m\u001b[0;34m:\u001b[0m\u001b[0;34m\u001b[0m\u001b[0;34m\u001b[0m\u001b[0m\n\u001b[0;32m---> 51\u001b[0;31m                 \u001b[0mdata\u001b[0m \u001b[0;34m=\u001b[0m \u001b[0;34m[\u001b[0m\u001b[0mself\u001b[0m\u001b[0;34m.\u001b[0m\u001b[0mdataset\u001b[0m\u001b[0;34m[\u001b[0m\u001b[0midx\u001b[0m\u001b[0;34m]\u001b[0m \u001b[0;32mfor\u001b[0m \u001b[0midx\u001b[0m \u001b[0;32min\u001b[0m \u001b[0mpossibly_batched_index\u001b[0m\u001b[0;34m]\u001b[0m\u001b[0;34m\u001b[0m\u001b[0;34m\u001b[0m\u001b[0m\n\u001b[0m\u001b[1;32m     52\u001b[0m         \u001b[0;32melse\u001b[0m\u001b[0;34m:\u001b[0m\u001b[0;34m\u001b[0m\u001b[0;34m\u001b[0m\u001b[0m\n\u001b[1;32m     53\u001b[0m             \u001b[0mdata\u001b[0m \u001b[0;34m=\u001b[0m \u001b[0mself\u001b[0m\u001b[0;34m.\u001b[0m\u001b[0mdataset\u001b[0m\u001b[0;34m[\u001b[0m\u001b[0mpossibly_batched_index\u001b[0m\u001b[0;34m]\u001b[0m\u001b[0;34m\u001b[0m\u001b[0;34m\u001b[0m\u001b[0m\n",
      "\u001b[0;32m/usr/local/lib/python3.10/dist-packages/torchvision/datasets/mnist.py\u001b[0m in \u001b[0;36m__getitem__\u001b[0;34m(self, index)\u001b[0m\n\u001b[1;32m    143\u001b[0m \u001b[0;34m\u001b[0m\u001b[0m\n\u001b[1;32m    144\u001b[0m         \u001b[0;32mif\u001b[0m \u001b[0mself\u001b[0m\u001b[0;34m.\u001b[0m\u001b[0mtransform\u001b[0m \u001b[0;32mis\u001b[0m \u001b[0;32mnot\u001b[0m \u001b[0;32mNone\u001b[0m\u001b[0;34m:\u001b[0m\u001b[0;34m\u001b[0m\u001b[0;34m\u001b[0m\u001b[0m\n\u001b[0;32m--> 145\u001b[0;31m             \u001b[0mimg\u001b[0m \u001b[0;34m=\u001b[0m \u001b[0mself\u001b[0m\u001b[0;34m.\u001b[0m\u001b[0mtransform\u001b[0m\u001b[0;34m(\u001b[0m\u001b[0mimg\u001b[0m\u001b[0;34m)\u001b[0m\u001b[0;34m\u001b[0m\u001b[0;34m\u001b[0m\u001b[0m\n\u001b[0m\u001b[1;32m    146\u001b[0m \u001b[0;34m\u001b[0m\u001b[0m\n\u001b[1;32m    147\u001b[0m         \u001b[0;32mif\u001b[0m \u001b[0mself\u001b[0m\u001b[0;34m.\u001b[0m\u001b[0mtarget_transform\u001b[0m \u001b[0;32mis\u001b[0m \u001b[0;32mnot\u001b[0m \u001b[0;32mNone\u001b[0m\u001b[0;34m:\u001b[0m\u001b[0;34m\u001b[0m\u001b[0;34m\u001b[0m\u001b[0m\n",
      "\u001b[0;32m/usr/local/lib/python3.10/dist-packages/torchvision/transforms/transforms.py\u001b[0m in \u001b[0;36m__call__\u001b[0;34m(self, pic)\u001b[0m\n\u001b[1;32m    135\u001b[0m             \u001b[0mTensor\u001b[0m\u001b[0;34m:\u001b[0m \u001b[0mConverted\u001b[0m \u001b[0mimage\u001b[0m\u001b[0;34m.\u001b[0m\u001b[0;34m\u001b[0m\u001b[0;34m\u001b[0m\u001b[0m\n\u001b[1;32m    136\u001b[0m         \"\"\"\n\u001b[0;32m--> 137\u001b[0;31m         \u001b[0;32mreturn\u001b[0m \u001b[0mF\u001b[0m\u001b[0;34m.\u001b[0m\u001b[0mto_tensor\u001b[0m\u001b[0;34m(\u001b[0m\u001b[0mpic\u001b[0m\u001b[0;34m)\u001b[0m\u001b[0;34m\u001b[0m\u001b[0;34m\u001b[0m\u001b[0m\n\u001b[0m\u001b[1;32m    138\u001b[0m \u001b[0;34m\u001b[0m\u001b[0m\n\u001b[1;32m    139\u001b[0m     \u001b[0;32mdef\u001b[0m \u001b[0m__repr__\u001b[0m\u001b[0;34m(\u001b[0m\u001b[0mself\u001b[0m\u001b[0;34m)\u001b[0m \u001b[0;34m->\u001b[0m \u001b[0mstr\u001b[0m\u001b[0;34m:\u001b[0m\u001b[0;34m\u001b[0m\u001b[0;34m\u001b[0m\u001b[0m\n",
      "\u001b[0;32m/usr/local/lib/python3.10/dist-packages/torchvision/transforms/functional.py\u001b[0m in \u001b[0;36mto_tensor\u001b[0;34m(pic)\u001b[0m\n\u001b[1;32m    172\u001b[0m     \u001b[0mimg\u001b[0m \u001b[0;34m=\u001b[0m \u001b[0mimg\u001b[0m\u001b[0;34m.\u001b[0m\u001b[0mpermute\u001b[0m\u001b[0;34m(\u001b[0m\u001b[0;34m(\u001b[0m\u001b[0;36m2\u001b[0m\u001b[0;34m,\u001b[0m \u001b[0;36m0\u001b[0m\u001b[0;34m,\u001b[0m \u001b[0;36m1\u001b[0m\u001b[0;34m)\u001b[0m\u001b[0;34m)\u001b[0m\u001b[0;34m.\u001b[0m\u001b[0mcontiguous\u001b[0m\u001b[0;34m(\u001b[0m\u001b[0;34m)\u001b[0m\u001b[0;34m\u001b[0m\u001b[0;34m\u001b[0m\u001b[0m\n\u001b[1;32m    173\u001b[0m     \u001b[0;32mif\u001b[0m \u001b[0misinstance\u001b[0m\u001b[0;34m(\u001b[0m\u001b[0mimg\u001b[0m\u001b[0;34m,\u001b[0m \u001b[0mtorch\u001b[0m\u001b[0;34m.\u001b[0m\u001b[0mByteTensor\u001b[0m\u001b[0;34m)\u001b[0m\u001b[0;34m:\u001b[0m\u001b[0;34m\u001b[0m\u001b[0;34m\u001b[0m\u001b[0m\n\u001b[0;32m--> 174\u001b[0;31m         \u001b[0;32mreturn\u001b[0m \u001b[0mimg\u001b[0m\u001b[0;34m.\u001b[0m\u001b[0mto\u001b[0m\u001b[0;34m(\u001b[0m\u001b[0mdtype\u001b[0m\u001b[0;34m=\u001b[0m\u001b[0mdefault_float_dtype\u001b[0m\u001b[0;34m)\u001b[0m\u001b[0;34m.\u001b[0m\u001b[0mdiv\u001b[0m\u001b[0;34m(\u001b[0m\u001b[0;36m255\u001b[0m\u001b[0;34m)\u001b[0m\u001b[0;34m\u001b[0m\u001b[0;34m\u001b[0m\u001b[0m\n\u001b[0m\u001b[1;32m    175\u001b[0m     \u001b[0;32melse\u001b[0m\u001b[0;34m:\u001b[0m\u001b[0;34m\u001b[0m\u001b[0;34m\u001b[0m\u001b[0m\n\u001b[1;32m    176\u001b[0m         \u001b[0;32mreturn\u001b[0m \u001b[0mimg\u001b[0m\u001b[0;34m\u001b[0m\u001b[0;34m\u001b[0m\u001b[0m\n",
      "\u001b[0;31mKeyboardInterrupt\u001b[0m: "
     ]
    }
   ],
   "source": [
    "# number of epochs to train the model\n",
    "n_epochs = 10  # suggest training between 20-50 epochs\n",
    "\n",
    "model.train() # prep model for training\n",
    "\n",
    "for epoch in range(n_epochs):\n",
    "    # monitor training loss\n",
    "    train_loss = 0.0\n",
    "    \n",
    "    ###################\n",
    "    # train the model #\n",
    "    ###################\n",
    "    for data, target in train_loader:\n",
    "        # clear the gradients of all optimized variables\n",
    "        optimizer.zero_grad() #** CLARIFICATIONS ABOVE\n",
    "        # forward pass: compute predicted outputs by passing inputs to the model\n",
    "        output = model(data)\n",
    "        # calculate the loss\n",
    "        loss = criterion(output, target)\n",
    "        # backward pass: compute gradient of the loss with respect to model parameters\n",
    "        loss.backward()\n",
    "        # perform a single optimization step (parameter update)\n",
    "        optimizer.step()\n",
    "        # update running training loss\n",
    "        train_loss += loss.item()*data.size(0)\n",
    "        \n",
    "    # print training statistics \n",
    "    # calculate average loss over an epoch\n",
    "    train_loss = train_loss/len(train_loader.dataset)\n",
    "\n",
    "    print('Epoch: {} \\tTraining Loss: {:.6f}'.format(\n",
    "        epoch+1, \n",
    "        train_loss\n",
    "        ))"
   ]
  },
  {
   "cell_type": "markdown",
   "metadata": {
    "id": "SbN_z8Fw3pBt"
   },
   "source": [
    "Test the obtained model on the test set and evaluate it..."
   ]
  },
  {
   "cell_type": "code",
   "execution_count": null,
   "metadata": {
    "colab": {
     "base_uri": "https://localhost:8080/"
    },
    "id": "uKth9khgYzpz",
    "outputId": "04256667-7dd3-4a1d-c893-0033e86741ae"
   },
   "outputs": [
    {
     "name": "stdout",
     "output_type": "stream",
     "text": [
      "Test Loss: 0.490185\n",
      "\n",
      "Test Accuracy of     0: 83% (831/1000)\n",
      "Test Accuracy of     1: 94% (944/1000)\n",
      "Test Accuracy of     2: 72% (721/1000)\n",
      "Test Accuracy of     3: 86% (867/1000)\n",
      "Test Accuracy of     4: 78% (783/1000)\n",
      "Test Accuracy of     5: 88% (887/1000)\n",
      "Test Accuracy of     6: 49% (498/1000)\n",
      "Test Accuracy of     7: 90% (904/1000)\n",
      "Test Accuracy of     8: 94% (946/1000)\n",
      "Test Accuracy of     9: 95% (951/1000)\n",
      "\n",
      "Test Accuracy (Overall): 83% (8332/10000)\n"
     ]
    }
   ],
   "source": [
    "# initialize lists to monitor test loss and accuracy\n",
    "test_loss = 0.0\n",
    "class_correct = list(0. for i in range(10))\n",
    "class_total = list(0. for i in range(10))\n",
    "\n",
    "model.eval() # prep model for *evaluation*\n",
    "\n",
    "for data, target in test_loader:\n",
    "    # forward pass: compute predicted outputs by passing inputs to the model\n",
    "    output = model(data)\n",
    "    # calculate the loss\n",
    "    loss = criterion(output, target)\n",
    "    # update test loss \n",
    "    test_loss += loss.item()*data.size(0)\n",
    "    # convert output probabilities to predicted class\n",
    "    _, pred = torch.max(output, 1)\n",
    "    # compare predictions to true label\n",
    "    correct = np.squeeze(pred.eq(target.data.view_as(pred)))\n",
    "    # calculate test accuracy for each object class\n",
    "    for i in range(len(target.data)):\n",
    "        label = target.data[i]\n",
    "        class_correct[label] += correct[i].item()\n",
    "        class_total[label] += 1\n",
    "\n",
    "# calculate and print avg test loss\n",
    "test_loss = test_loss/len(test_loader.dataset)\n",
    "print('Test Loss: {:.6f}\\n'.format(test_loss))\n",
    "\n",
    "for i in range(10):\n",
    "    if class_total[i] > 0:\n",
    "        print('Test Accuracy of %5s: %2d%% (%2d/%2d)' % (\n",
    "            str(i), 100 * class_correct[i] / class_total[i],\n",
    "            np.sum(class_correct[i]), np.sum(class_total[i])))\n",
    "    else:\n",
    "        print('Test Accuracy of %5s: N/A (no training examples)' % (class_total[i]))\n",
    "\n",
    "print('\\nTest Accuracy (Overall): %2d%% (%2d/%2d)' % (\n",
    "    100. * np.sum(class_correct) / np.sum(class_total),\n",
    "    np.sum(class_correct), np.sum(class_total)))"
   ]
  },
  {
   "cell_type": "markdown",
   "metadata": {
    "id": "AwtzA20eZggl"
   },
   "source": [
    "Looking at the overall accuracy obtained by the model on two tasks, we can see that it performs better on the first one (Digit Recognition) .  "
   ]
  },
  {
   "cell_type": "markdown",
   "metadata": {
    "id": "Lk4xEdnmSP2d"
   },
   "source": [
    "## Multi-layer perceptron (MLP) network\n",
    "\n",
    "### Activation functions\n",
    "\n",
    "Let's start by plotting some common activation functions for neural networks. `'relu'` stands for rectified linear unit, $y=\\max(0,x)$, a very simple non-linearity we will be using in our MLP network below. A more recent and interesting activation function is `'gelu'`, that stands for 'GAUSSIAN ERROR LINEAR UNIT'. It will not be used here but keep it in mind as it can be very usefull for your exercises!"
   ]
  },
  {
   "cell_type": "code",
   "execution_count": null,
   "metadata": {
    "colab": {
     "base_uri": "https://localhost:8080/",
     "height": 452
    },
    "id": "Twbw_SxlSRw6",
    "outputId": "f6ef0786-5bfb-49a6-cc86-8961d6a1b007"
   },
   "outputs": [
    {
     "data": {
      "image/png": "[encoded data removed]",
      "text/plain": [
       "<Figure size 640x480 with 1 Axes>"
      ]
     },
     "metadata": {},
     "output_type": "display_data"
    }
   ],
   "source": [
    "x = np.arange(-4,4,.01)\n",
    "plt.figure()\n",
    "plt.plot(x, np.maximum(x,0), label='relu')\n",
    "plt.plot(x, 1/(1+np.exp(-x)), label='sigmoid')\n",
    "plt.plot(x, np.tanh(x), label='tanh')\n",
    "plt.plot(x, x * (0.5 * (1.0 + np.tanh((np.sqrt(2 / np.pi) * (x + 0.044715 * np.power(x, 3)))))), label=\"gelu\")\n",
    "plt.axis([-4, 4, -1.1, 1.5])\n",
    "plt.title('Activation functions')\n",
    "plt.legend(loc='best');"
   ]
  },
  {
   "cell_type": "markdown",
   "metadata": {
    "id": "w-EuJ-0uSS0h"
   },
   "source": [
    "### Initialization\n",
    "\n",
    "Let's now create a more complex MLP model that has multiple layers, non-linear activation functions, and dropout layers.  `Dropout()` randomly sets a fraction of inputs to zero during training, which is one approach to regularization and can sometimes help to prevent overfitting."
   ]
  },
  {
   "cell_type": "code",
   "execution_count": null,
   "metadata": {
    "colab": {
     "base_uri": "https://localhost:8080/"
    },
    "id": "t1-ShFtWSVFk",
    "outputId": "ab59bd09-ae7c-461a-adb3-dc99d2b93809"
   },
   "outputs": [
    {
     "name": "stdout",
     "output_type": "stream",
     "text": [
      "MLP(\n",
      "  (fc1): Linear(in_features=784, out_features=20, bias=True)\n",
      "  (fc2): Linear(in_features=20, out_features=20, bias=True)\n",
      "  (fc3): Linear(in_features=20, out_features=10, bias=True)\n",
      "  (dropout): Dropout(p=0.2, inplace=False)\n",
      ")\n"
     ]
    }
   ],
   "source": [
    "import torch.nn as nn\n",
    "import torch.nn.functional as F\n",
    "\n",
    "## Define the NN architecture\n",
    "class MLP(nn.Module):\n",
    "    def __init__(self):\n",
    "        super(MLP, self).__init__()\n",
    "        self.fc1 = nn.Linear(28 * 28, 20)\n",
    "        # linear layer (n_hidden -> hidden_2)\n",
    "        self.fc2 = nn.Linear(20, 20)\n",
    "        # linear layer (n_hidden -> 10)\n",
    "        self.fc3 = nn.Linear(20, 10)\n",
    "        # dropout layer (p=0.2)\n",
    "        # dropout prevents overfitting of data\n",
    "        self.dropout = nn.Dropout(0.2)\n",
    "\n",
    "        self.relu = F.relu\n",
    "\n",
    "    def forward(self, x):\n",
    "        # flatten image input\n",
    "        x = x.view(-1, 28 * 28)\n",
    "        # add hidden layer, with relu activation function\n",
    "        x = self.fc3(self.dropout(self.relu(self.fc2(self.relu(self.fc1(x))))))\n",
    "        return x\n",
    "\n",
    "# initialize the NN\n",
    "model2 = MLP()\n",
    "print(model2)"
   ]
  },
  {
   "cell_type": "markdown",
   "metadata": {
    "id": "XUm10WkaSS9u"
   },
   "source": [
    "### Learning\n",
    "*IMPORTANT*: since the model is changed, the Optimizer **MUST** be updated with the parameters of the new model.\n",
    "\n",
    "*WARNING*: we are going to train and test the model on the second task.\n",
    "train_loader and test_loader contain matrices representing fashion items (FashionMNIST dataset)."
   ]
  },
  {
   "cell_type": "code",
   "execution_count": null,
   "metadata": {
    "id": "wYbuxX04SY6e"
   },
   "outputs": [],
   "source": [
    "optimizer2 = torch.optim.SGD(model2.parameters(), lr=0.01)"
   ]
  },
  {
   "cell_type": "markdown",
   "metadata": {
    "id": "awiDgMr-6JsF"
   },
   "source": [
    "Let's train the model on FashionMNIST train_set for 10 epochs..."
   ]
  },
  {
   "cell_type": "code",
   "execution_count": null,
   "metadata": {
    "colab": {
     "base_uri": "https://localhost:8080/"
    },
    "id": "QdtHC2nxSaMM",
    "outputId": "6af9bc45-2d6d-48c0-82c7-3f687a2ad819"
   },
   "outputs": [
    {
     "name": "stdout",
     "output_type": "stream",
     "text": [
      "Epoch: 1 \tTraining Loss: 1.355917\n",
      "Epoch: 2 \tTraining Loss: 0.775228\n",
      "Epoch: 3 \tTraining Loss: 0.672864\n",
      "Epoch: 4 \tTraining Loss: 0.617852\n",
      "Epoch: 5 \tTraining Loss: 0.588128\n",
      "Epoch: 6 \tTraining Loss: 0.570772\n",
      "Epoch: 7 \tTraining Loss: 0.550908\n",
      "Epoch: 8 \tTraining Loss: 0.537422\n",
      "Epoch: 9 \tTraining Loss: 0.530161\n",
      "Epoch: 10 \tTraining Loss: 0.520075\n"
     ]
    }
   ],
   "source": [
    "# number of epochs to train the model\n",
    "n_epochs = 10  # suggest training between 20-50 epochs\n",
    "\n",
    "model2.train() # prep model for training\n",
    "\n",
    "for epoch in range(n_epochs):\n",
    "    # monitor training loss\n",
    "    train_loss = 0.0\n",
    "    \n",
    "    ###################\n",
    "    # train the model #\n",
    "    ###################\n",
    "    for data, target in train_loader:\n",
    "        # clear the gradients of all optimized variables\n",
    "        optimizer2.zero_grad()\n",
    "        # forward pass: compute predicted outputs by passing inputs to the model\n",
    "        output = model2(data)\n",
    "        # calculate the loss\n",
    "        loss = criterion(output, target)\n",
    "        # backward pass: compute gradient of the loss with respect to model parameters\n",
    "        loss.backward()\n",
    "        # perform a single optimization step (parameter update)\n",
    "        optimizer2.step()\n",
    "        # update running training loss\n",
    "        train_loss += loss.item()*data.size(0)\n",
    "        \n",
    "    # print training statistics \n",
    "    # calculate average loss over an epoch\n",
    "    train_loss = train_loss/len(train_loader.dataset)\n",
    "\n",
    "    print('Epoch: {} \\tTraining Loss: {:.6f}'.format(\n",
    "        epoch+1, \n",
    "        train_loss\n",
    "        ))"
   ]
  },
  {
   "cell_type": "markdown",
   "metadata": {
    "id": "_vHZ8P8nScdR"
   },
   "source": [
    "### Inference\n",
    "\n",
    "Accuracy for test data.  The model should be somewhat better than the linear model. "
   ]
  },
  {
   "cell_type": "code",
   "execution_count": null,
   "metadata": {
    "colab": {
     "base_uri": "https://localhost:8080/"
    },
    "id": "xh76RQavSdU0",
    "outputId": "2d9ce44f-3dec-49ef-c18b-5dde1f81b64a"
   },
   "outputs": [
    {
     "name": "stdout",
     "output_type": "stream",
     "text": [
      "Test Loss: 0.473030\n",
      "\n",
      "Test Accuracy of     0: 79% (790/1000)\n",
      "Test Accuracy of     1: 95% (950/1000)\n",
      "Test Accuracy of     2: 73% (730/1000)\n",
      "Test Accuracy of     3: 89% (891/1000)\n",
      "Test Accuracy of     4: 82% (825/1000)\n",
      "Test Accuracy of     5: 88% (887/1000)\n",
      "Test Accuracy of     6: 42% (421/1000)\n",
      "Test Accuracy of     7: 94% (941/1000)\n",
      "Test Accuracy of     8: 93% (937/1000)\n",
      "Test Accuracy of     9: 94% (945/1000)\n",
      "\n",
      "Test Accuracy (Overall): 83% (8317/10000)\n"
     ]
    }
   ],
   "source": [
    "# initialize lists to monitor test loss and accuracy\n",
    "test_loss = 0.0\n",
    "class_correct = list(0. for i in range(10))\n",
    "class_total = list(0. for i in range(10))\n",
    "\n",
    "model2.eval() # prep model for *evaluation*\n",
    "\n",
    "for data, target in test_loader:\n",
    "    # forward pass: compute predicted outputs by passing inputs to the model\n",
    "    output = model2(data)\n",
    "    # calculate the loss\n",
    "    loss = criterion(output, target)\n",
    "    # update test loss \n",
    "    test_loss += loss.item()*data.size(0)\n",
    "    # convert output probabilities to predicted class\n",
    "    _, pred = torch.max(output, 1)\n",
    "    # compare predictions to true label\n",
    "    correct = np.squeeze(pred.eq(target.data.view_as(pred)))\n",
    "    # calculate test accuracy for each object class\n",
    "    for i in range(len(target.data)):\n",
    "        label = target.data[i]\n",
    "        class_correct[label] += correct[i].item()\n",
    "        class_total[label] += 1\n",
    "\n",
    "# calculate and print avg test loss\n",
    "test_loss = test_loss/len(test_loader.dataset)\n",
    "print('Test Loss: {:.6f}\\n'.format(test_loss))\n",
    "\n",
    "for i in range(10):\n",
    "    if class_total[i] > 0:\n",
    "        print('Test Accuracy of %5s: %2d%% (%2d/%2d)' % (\n",
    "            str(i), 100 * class_correct[i] / class_total[i],\n",
    "            np.sum(class_correct[i]), np.sum(class_total[i])))\n",
    "    else:\n",
    "        print('Test Accuracy of %5s: N/A (no training examples)' % (class_total[i]))\n",
    "\n",
    "print('\\nTest Accuracy (Overall): %2d%% (%2d/%2d)' % (\n",
    "    100. * np.sum(class_correct) / np.sum(class_total),\n",
    "    np.sum(class_correct), np.sum(class_total)))"
   ]
  },
  {
   "cell_type": "markdown",
   "metadata": {
    "id": "CWPVW7T26qvl"
   },
   "source": [
    "Looking at the results obtained we can see that despite we have added a layer to the model the overall accuracy obtained is nearly the same. "
   ]
  },
  {
   "cell_type": "markdown",
   "metadata": {
    "id": "madPVQUHSfdc"
   },
   "source": [
    "Here are the first 20 test digits the MLP classified to a wrong class:"
   ]
  },
  {
   "cell_type": "code",
   "execution_count": null,
   "metadata": {
    "colab": {
     "base_uri": "https://localhost:8080/",
     "height": 327
    },
    "id": "-toccxldSgfm",
    "outputId": "33324068-1ef4-469e-bf00-5816135ece4d"
   },
   "outputs": [
    {
     "data": {
      "image/png": "[encoded data removed]",
      "text/plain": [
       "<Figure size 2500x400 with 20 Axes>"
      ]
     },
     "metadata": {},
     "output_type": "display_data"
    }
   ],
   "source": [
    "# obtain one batch of test images\n",
    "dataiter = iter(test_loader)\n",
    "images, labels = next(dataiter)\n",
    "\n",
    "# get sample outputs\n",
    "output = model(images)\n",
    "# convert output probabilities to predicted class\n",
    "_, preds = torch.max(output, 1)\n",
    "# prep images for display\n",
    "images = images.numpy()\n",
    "\n",
    "# plot the images in the batch, along with predicted and true labels\n",
    "fig = plt.figure(figsize=(25, 4))\n",
    "for idx in np.arange(20):\n",
    "    ax = fig.add_subplot(2, int(20/2), idx+1, xticks=[], yticks=[])\n",
    "    ax.imshow(np.squeeze(images[idx]), cmap='gray')\n",
    "    ax.set_title(\"{} ({})\".format(str(preds[idx].item()), str(labels[idx].item())),\n",
    "                 color=(\"green\" if preds[idx]==labels[idx] else \"red\"))"
   ]
  },
  {
   "cell_type": "markdown",
   "metadata": {
    "id": "m3fNzrAzcEiW"
   },
   "source": [
    "# Exercise 2\n",
    "\n",
    "Design and implement an MLP (for example, with 2 hidden layers and 2-4 neurons for each layer) for the Question Classification dataset. You should already have the dataset saved on your pc!  \n",
    "Create 2 networks:\n",
    "- using the BoW representation for the questions;\n",
    "- using the Neural Encoding from sBERT shown in previous exercises;\n",
    "\n",
    "The train the network and evaluate it maximizing the resulting F1-score.\n",
    "\n",
    "\n",
    "**Hints**: \n",
    "- Upload the dataset files on the colab machine in order to access them.\n",
    "- The input layer needs to be equal to the number of features:  \n",
    "  - BoW representations has 11.000 features? You need 11.000 input neurons.  \n",
    "  - sBERT representation has 768 features? You need 768 neurons!\n",
    "- The output layer needs to be same size as the number of total classes.\n",
    "- In order to maximize the F1-score, you should tweak some hyperparameters such as: `learning_rate`, `dropout`, number of `layers`/`neurons`, `activation function`, `loss function`, number of `epochs`, .."
   ]
  },
  {
   "cell_type": "code",
   "execution_count": 5,
   "metadata": {
    "id": "HJDMjRLIdsCN"
   },
   "outputs": [],
   "source": [
    "from sklearn.datasets import fetch_20newsgroups\n",
    "from sklearn.feature_extraction.text import TfidfVectorizer\n",
    "from sklearn.metrics import accuracy_score, classification_report, confusion_matrix\n",
    "from sklearn.svm import SVC\n",
    "\n",
    "import numpy as np\n",
    "import pandas as pd\n",
    "\n",
    "import matplotlib.pyplot as plt\n",
    "import seaborn as sns\n",
    "\n",
    "from pprint import pprint"
   ]
  },
  {
   "cell_type": "code",
   "execution_count": 6,
   "metadata": {
    "id": "5speVGuqi4PR"
   },
   "outputs": [],
   "source": [
    "# option to print all the value of cells in DataFrames\n",
    "pd.set_option(\"max_colwidth\", None)"
   ]
  },
  {
   "cell_type": "code",
   "execution_count": 8,
   "metadata": {
    "id": "wOQ6TIQHi4Mf"
   },
   "outputs": [],
   "source": [
    "training_data = pd.read_csv(\"./train.csv\")\n",
    "testing_data = pd.read_csv(\"./test.csv\")"
   ]
  },
  {
   "cell_type": "markdown",
   "metadata": {
    "id": "ogrcY8yfDxJx"
   },
   "source": [
    "Get the TF-IDF Vectorization for each element of the train_set and test_set..."
   ]
  },
  {
   "cell_type": "code",
   "execution_count": null,
   "metadata": {
    "id": "lt_oxX4fi9TU"
   },
   "outputs": [],
   "source": [
    "# Extract features from the dataset\n",
    "vectorizer = TfidfVectorizer()\n",
    "X_train = vectorizer.fit_transform(training_data['questions'].tolist()).toarray()\n",
    "X_test = vectorizer.transform(testing_data['questions'].tolist()).toarray()"
   ]
  },
  {
   "cell_type": "markdown",
   "metadata": {
    "id": "-xafLF6hEBnK"
   },
   "source": [
    "Transform target's list into a number's np.array list by mapping the set of classes to a set of related numbers..."
   ]
  },
  {
   "cell_type": "code",
   "execution_count": 9,
   "metadata": {
    "colab": {
     "base_uri": "https://localhost:8080/"
    },
    "id": "MI2x4FVEbcwl",
    "outputId": "7ec2d742-e2f9-4642-d92a-9019842a8d0b"
   },
   "outputs": [
    {
     "name": "stdout",
     "output_type": "stream",
     "text": [
      "['DESC' 'ENTY' 'ABBR' 'HUM' 'NUM' 'LOC']\n"
     ]
    }
   ],
   "source": [
    "Y_train=np.empty(len(training_data))\n",
    "Y_test=np.empty(len(testing_data))\n",
    "\n",
    "classes=training_data[\"classes\"].unique() #lista/insieme degli autori\n",
    "\n",
    "print(classes)\n",
    "\n",
    "training_targets=np.array(training_data[\"classes\"])\n",
    "testing_targets=np.array(testing_data[\"classes\"])\n",
    "\n",
    "for i in range (len(training_data)):\n",
    "  Y_train[i]=np.where(classes == training_targets[i])[0][0]\n",
    "\n",
    "for i in range (len(testing_data)):\n",
    "  Y_test[i]=np.where(classes == testing_targets[i])[0][0]\n",
    "\n",
    "Y_train=Y_train.astype(\"int\")\n",
    "Y_test=Y_test.astype(\"int\")"
   ]
  },
  {
   "cell_type": "markdown",
   "metadata": {
    "id": "QOJM9MMm8R68"
   },
   "source": [
    "Transforming numpy's array in pytorch tensors..."
   ]
  },
  {
   "cell_type": "code",
   "execution_count": null,
   "metadata": {
    "id": "6UcmuQpd8Q-v"
   },
   "outputs": [],
   "source": [
    "import torch\n",
    "\n",
    "X_train = torch.from_numpy(X_train).float()\n",
    "Y_train = torch.from_numpy(Y_train).long()\n",
    "\n",
    "X_test = torch.from_numpy(X_test).float()\n",
    "Y_test = torch.from_numpy(Y_test).long()"
   ]
  },
  {
   "cell_type": "markdown",
   "metadata": {
    "id": "3dpWqF7FYgrx"
   },
   "source": [
    "NOTE that we have only 5452 examples ... while in the previous tasks we had 60k examples"
   ]
  },
  {
   "cell_type": "code",
   "execution_count": null,
   "metadata": {
    "colab": {
     "base_uri": "https://localhost:8080/"
    },
    "id": "uFJH6dH4URb1",
    "outputId": "180b70d8-1c0d-417b-f5da-1286ee0b13eb"
   },
   "outputs": [
    {
     "name": "stdout",
     "output_type": "stream",
     "text": [
      "torch.Size([5452, 8410])\n",
      "torch.Size([5452])\n"
     ]
    }
   ],
   "source": [
    "print(X_train.shape)\n",
    "print(Y_train.shape)"
   ]
  },
  {
   "cell_type": "markdown",
   "metadata": {
    "id": "TEycW56h7rUx"
   },
   "source": [
    "Load the data inside a tensor dataset splitting them into 32 different batches..."
   ]
  },
  {
   "cell_type": "code",
   "execution_count": null,
   "metadata": {
    "id": "nKycvw9b7cqd"
   },
   "outputs": [],
   "source": [
    "from torch.utils.data import TensorDataset, DataLoader, RandomSampler, SequentialSampler\n",
    "\n",
    "# how many samples per batch to load\n",
    "batch_size = 32\n",
    "\n",
    "train_data = TensorDataset(X_train,Y_train)\n",
    "train_dataloader = DataLoader(train_data, batch_size=batch_size, shuffle=True)\n",
    "\n",
    "test_data = TensorDataset(X_test,Y_test)\n",
    "test_dataloader = DataLoader(test_data, batch_size=batch_size, shuffle=True)\n"
   ]
  },
  {
   "cell_type": "code",
   "execution_count": null,
   "metadata": {
    "id": "jxw-4czNEtp7"
   },
   "outputs": [],
   "source": [
    "input_dim = len(X_train[0])  #len(X_train[0]) == number of features for each datum == len of vocabulary \n",
    "output_dim = len(classes)"
   ]
  },
  {
   "cell_type": "markdown",
   "metadata": {
    "id": "rvFRUD5TH3z-"
   },
   "source": [
    "#Some usefull clarifications about training and epochs\n",
    "\n",
    "An epoch represents a complete pass of the entire training dataset through the model, divided into batches. Seeing the same data more than one times could be usefull for the model for understanding whether the weight's adjustment is going well.\n",
    "Here are some considerations about number of epochs: \n",
    "\n",
    "*Few Epochs and Poor Training:* If only a few epochs are performed during training, the model may not learn effectively or may fail to adjust its weights optimally. Insufficient training can lead to underfitting, where the model doesn't capture the patterns and complexities present in the data.\n",
    "\n",
    "*Too Many Epochs and Overfitting:* On the other hand, if too many epochs are performed, the model may risk overfitting. Overfitting occurs when the model becomes excessively tailored to the training dataset and loses its ability to generalize to unseen data. The model starts memorizing the training examples instead of learning meaningful patterns, resulting in poor performance on new data.\n",
    "\n",
    "It is crucial to strike a balance and determine an optimal number of epochs during training to ensure the model learns the underlying patterns without overfitting. Techniques such as early stopping, regularization (gradients clearing, dropout...), and cross-validation can help prevent overfitting and find the right number of epochs for a given task."
   ]
  },
  {
   "cell_type": "markdown",
   "metadata": {
    "id": "7lh65zba0MeI"
   },
   "source": [
    "#MODEL 4\n",
    "Let's define a simple model consisting in an input layer with input_dim (dimension of vocabulary) number of neurons and an output layer with output_dim (6 classes) number of neurons."
   ]
  },
  {
   "cell_type": "code",
   "execution_count": null,
   "metadata": {
    "colab": {
     "base_uri": "https://localhost:8080/"
    },
    "id": "KbmMCvHI0TtT",
    "outputId": "a433e147-b49e-4ad5-ae78-2ed1edee0af7"
   },
   "outputs": [
    {
     "name": "stdout",
     "output_type": "stream",
     "text": [
      "Net(\n",
      "  (fc): Linear(in_features=8410, out_features=6, bias=True)\n",
      "  (dropout): Dropout(p=0.2, inplace=False)\n",
      ")\n"
     ]
    }
   ],
   "source": [
    "import torch.nn as nn\n",
    "import torch.nn.functional as F\n",
    "\n",
    "## Define the NN architecture\n",
    "class Net(nn.Module):\n",
    "    def __init__(self):\n",
    "        super(Net, self).__init__()\n",
    "        self.fc = nn.Linear(input_dim, output_dim)\n",
    "    \n",
    "        self.dropout = nn.Dropout(0.2)\n",
    "\n",
    "    def forward(self, x):\n",
    "        # flatten image input\n",
    "        x = x.view(-1, input_dim)\n",
    "        # we can apply dropout\n",
    "        x = self.dropout(x)\n",
    "        # add hidden layer, with relu activation function\n",
    "        x = self.fc(x)\n",
    "        \n",
    "        return x\n",
    "\n",
    "# initialize the NN\n",
    "model4 = Net()\n",
    "print(model4)"
   ]
  },
  {
   "cell_type": "markdown",
   "metadata": {
    "id": "rOFNLb514tKm"
   },
   "source": [
    "Redefining the optimizer...\n",
    "\n",
    "Remember the loss function is the Cross Entropy as defined above..."
   ]
  },
  {
   "cell_type": "code",
   "execution_count": null,
   "metadata": {
    "id": "t7UURh_z0cvD"
   },
   "outputs": [],
   "source": [
    "optimizer4 = torch.optim.SGD(model4.parameters(), lr=0.01)"
   ]
  },
  {
   "cell_type": "markdown",
   "metadata": {
    "id": "vAlrSpBO5FjT"
   },
   "source": [
    "#Some usefull clarifications about training and epochs\n",
    "\n",
    "An epoch represents a complete pass of the entire training dataset through the model, divided into batches. Seeing the same data more than one times could be usefull for the model for understanding whether the weight's adjustment is going well.\n",
    "Here are some considerations about number of epochs: \n",
    "\n",
    "*Few Epochs and Poor Training:* If only a few epochs are performed during training, the model may not learn effectively or may fail to adjust its weights optimally. Insufficient training can lead to underfitting, where the model doesn't capture the patterns and complexities present in the data.\n",
    "\n",
    "*Too Many Epochs and Overfitting:* On the other hand, if too many epochs are performed, the model may risk overfitting. Overfitting occurs when the model becomes excessively tailored to the training dataset and loses its ability to generalize to unseen data. The model starts memorizing the training examples instead of learning meaningful patterns, resulting in poor performance on new data.\n",
    "\n",
    "It is crucial to strike a balance and determine an optimal number of epochs during training to ensure the model learns the underlying patterns without overfitting. Techniques such as early stopping, regularization (gradients clearing, dropout...), and cross-validation can help prevent overfitting and find the right number of epochs for a given task."
   ]
  },
  {
   "cell_type": "markdown",
   "metadata": {
    "id": "VMG-T3eh5UFQ"
   },
   "source": [
    "Train the linear model for 40 epochs ..."
   ]
  },
  {
   "cell_type": "code",
   "execution_count": null,
   "metadata": {
    "colab": {
     "base_uri": "https://localhost:8080/"
    },
    "id": "8IQORiF8YIbI",
    "outputId": "bab043b9-0f76-422c-efba-bb02f91165bf"
   },
   "outputs": [
    {
     "name": "stdout",
     "output_type": "stream",
     "text": [
      "Epoch: 1 \tTraining Loss: 1.766230\n",
      "Epoch: 2 \tTraining Loss: 1.729444\n",
      "Epoch: 3 \tTraining Loss: 1.705240\n",
      "Epoch: 4 \tTraining Loss: 1.688173\n",
      "Epoch: 5 \tTraining Loss: 1.675335\n",
      "Epoch: 6 \tTraining Loss: 1.665250\n",
      "Epoch: 7 \tTraining Loss: 1.656743\n",
      "Epoch: 8 \tTraining Loss: 1.649629\n",
      "Epoch: 9 \tTraining Loss: 1.643171\n",
      "Epoch: 10 \tTraining Loss: 1.638046\n",
      "Epoch: 11 \tTraining Loss: 1.632784\n",
      "Epoch: 12 \tTraining Loss: 1.627836\n",
      "Epoch: 13 \tTraining Loss: 1.623517\n",
      "Epoch: 14 \tTraining Loss: 1.618644\n",
      "Epoch: 15 \tTraining Loss: 1.615092\n",
      "Epoch: 16 \tTraining Loss: 1.611146\n",
      "Epoch: 17 \tTraining Loss: 1.607072\n",
      "Epoch: 18 \tTraining Loss: 1.603470\n",
      "Epoch: 19 \tTraining Loss: 1.599492\n",
      "Epoch: 20 \tTraining Loss: 1.596583\n",
      "Epoch: 21 \tTraining Loss: 1.592187\n",
      "Epoch: 22 \tTraining Loss: 1.588641\n",
      "Epoch: 23 \tTraining Loss: 1.586465\n",
      "Epoch: 24 \tTraining Loss: 1.582954\n",
      "Epoch: 25 \tTraining Loss: 1.579946\n",
      "Epoch: 26 \tTraining Loss: 1.575884\n",
      "Epoch: 27 \tTraining Loss: 1.571869\n",
      "Epoch: 28 \tTraining Loss: 1.570290\n",
      "Epoch: 29 \tTraining Loss: 1.567077\n",
      "Epoch: 30 \tTraining Loss: 1.563784\n",
      "Epoch: 31 \tTraining Loss: 1.562066\n",
      "Epoch: 32 \tTraining Loss: 1.558083\n",
      "Epoch: 33 \tTraining Loss: 1.555968\n",
      "Epoch: 34 \tTraining Loss: 1.551465\n",
      "Epoch: 35 \tTraining Loss: 1.548691\n",
      "Epoch: 36 \tTraining Loss: 1.546328\n",
      "Epoch: 37 \tTraining Loss: 1.545014\n",
      "Epoch: 38 \tTraining Loss: 1.540542\n",
      "Epoch: 39 \tTraining Loss: 1.537518\n",
      "Epoch: 40 \tTraining Loss: 1.535229\n"
     ]
    }
   ],
   "source": [
    "# number of epochs to train the model\n",
    "n_epochs = 40  # suggest training between 20-50 epochs\n",
    "\n",
    "model4.train() # prep model for training\n",
    "\n",
    "for epoch in range(n_epochs):\n",
    "    # monitor training loss\n",
    "    train_loss = 0.0\n",
    "    \n",
    "    ###################\n",
    "    # train the model #\n",
    "    ###################\n",
    "    for data, target in train_dataloader:\n",
    "        #target = target.argmax(dim=1)\n",
    "        # clear the gradients of all optimized variables\n",
    "        optimizer4.zero_grad() #NOTE we don't clear the gradient\n",
    "        # forward pass: compute predicted outputs by passing inputs to the model\n",
    "        output = model4(data)\n",
    "        # calculate the loss\n",
    "        loss = criterion(output, target)\n",
    "        # backward pass: compute gradient of the loss with respect to model parameters\n",
    "        loss.backward()\n",
    "        # perform a single optimization step (parameter update)\n",
    "        optimizer4.step()\n",
    "        # update running training loss\n",
    "        train_loss += loss.item()*data.size(0)\n",
    "        \n",
    "    # print training statistics \n",
    "    # calculate average loss over an epoch\n",
    "    train_loss = train_loss/len(train_dataloader.dataset)\n",
    "\n",
    "    print('Epoch: {} \\tTraining Loss: {:.6f}'.format(\n",
    "        epoch+1, \n",
    "        train_loss\n",
    "        ))"
   ]
  },
  {
   "cell_type": "markdown",
   "metadata": {
    "id": "COZfJh_85akx"
   },
   "source": [
    "Evaluate it on the test set..."
   ]
  },
  {
   "cell_type": "code",
   "execution_count": null,
   "metadata": {
    "colab": {
     "base_uri": "https://localhost:8080/"
    },
    "id": "5-DpZU3NYIYd",
    "outputId": "282162ae-3e57-466b-ac07-d893599166a8"
   },
   "outputs": [
    {
     "name": "stdout",
     "output_type": "stream",
     "text": [
      "Test Loss: 1.518705\n",
      "\n",
      "Test Accuracy of     0: 66% (92/138)\n",
      "Test Accuracy of     1: 87% (82/94)\n",
      "Test Accuracy of     2:  0% ( 0/ 9)\n",
      "Test Accuracy of     3: 83% (54/65)\n",
      "Test Accuracy of     4:  6% ( 7/113)\n",
      "Test Accuracy of     5: 11% ( 9/81)\n",
      "\n",
      "Test Accuracy (Overall): 48% (244/500)\n"
     ]
    }
   ],
   "source": [
    "# initialize lists to monitor test loss and accuracy\n",
    "test_loss = 0.0\n",
    "class_correct = list(0. for i in range(6))\n",
    "class_total = list(0. for i in range(6))\n",
    "\n",
    "model4.eval() # prep model for *evaluation*\n",
    "\n",
    "for data, target in test_dataloader:\n",
    "    # forward pass: compute predicted outputs by passing inputs to the model\n",
    "    output = model4(data)\n",
    "    # calculate the loss\n",
    "    loss = criterion(output, target)\n",
    "    # update test loss \n",
    "    test_loss += loss.item()*data.size(0)\n",
    "    # convert output probabilities to predicted class\n",
    "    _, pred = torch.max(output, 1)\n",
    "    # compare predictions to true label\n",
    "    correct = np.squeeze(pred.eq(target.data.view_as(pred)))\n",
    "    # calculate test accuracy for each object class\n",
    "    for i in range(len(target.data)):\n",
    "        label = target.data[i]\n",
    "        class_correct[label] += correct[i].item()\n",
    "        class_total[label] += 1\n",
    "\n",
    "# calculate and print avg test loss\n",
    "test_loss = test_loss/len(test_dataloader.dataset)\n",
    "print('Test Loss: {:.6f}\\n'.format(test_loss))\n",
    "\n",
    "for i in range(6):\n",
    "    if class_total[i] > 0:\n",
    "        print('Test Accuracy of %5s: %2d%% (%2d/%2d)' % (\n",
    "            str(i), 100 * class_correct[i] / class_total[i],\n",
    "            np.sum(class_correct[i]), np.sum(class_total[i])))\n",
    "    else:\n",
    "        print('Test Accuracy of %5s: N/A (no training examples)' % (class_total[i]))\n",
    "\n",
    "print('\\nTest Accuracy (Overall): %2d%% (%2d/%2d)' % (\n",
    "    100. * np.sum(class_correct) / np.sum(class_total),\n",
    "    np.sum(class_correct), np.sum(class_total)))"
   ]
  },
  {
   "cell_type": "markdown",
   "metadata": {
    "id": "wjXKBYpI5gRT"
   },
   "source": [
    "The marginal accuracy is very low (especially for some classes like the 2nd which has only 9 samples) and as a consequence the overall accuracy is very low.\n"
   ]
  },
  {
   "cell_type": "code",
   "execution_count": null,
   "metadata": {
    "colab": {
     "base_uri": "https://localhost:8080/",
     "height": 269
    },
    "id": "_-hXKBZ_6DGw",
    "outputId": "b32f8ff0-308c-4987-947c-4fb1f4b513fa"
   },
   "outputs": [
    {
     "data": {
      "text/html": [
       "\n",
       "  <div id=\"df-bbe67119-def5-4510-abb9-329a817230d7\">\n",
       "    <div class=\"colab-df-container\">\n",
       "      <div>\n",
       "<style scoped>\n",
       "    .dataframe tbody tr th:only-of-type {\n",
       "        vertical-align: middle;\n",
       "    }\n",
       "\n",
       "    .dataframe tbody tr th {\n",
       "        vertical-align: top;\n",
       "    }\n",
       "\n",
       "    .dataframe thead th {\n",
       "        text-align: right;\n",
       "    }\n",
       "</style>\n",
       "<table border=\"1\" class=\"dataframe\">\n",
       "  <thead>\n",
       "    <tr style=\"text-align: right;\">\n",
       "      <th></th>\n",
       "      <th>questions</th>\n",
       "    </tr>\n",
       "    <tr>\n",
       "      <th>classes</th>\n",
       "      <th></th>\n",
       "    </tr>\n",
       "  </thead>\n",
       "  <tbody>\n",
       "    <tr>\n",
       "      <th>ABBR</th>\n",
       "      <td>86</td>\n",
       "    </tr>\n",
       "    <tr>\n",
       "      <th>DESC</th>\n",
       "      <td>1162</td>\n",
       "    </tr>\n",
       "    <tr>\n",
       "      <th>ENTY</th>\n",
       "      <td>1250</td>\n",
       "    </tr>\n",
       "    <tr>\n",
       "      <th>HUM</th>\n",
       "      <td>1223</td>\n",
       "    </tr>\n",
       "    <tr>\n",
       "      <th>LOC</th>\n",
       "      <td>835</td>\n",
       "    </tr>\n",
       "    <tr>\n",
       "      <th>NUM</th>\n",
       "      <td>896</td>\n",
       "    </tr>\n",
       "  </tbody>\n",
       "</table>\n",
       "</div>\n",
       "      <button class=\"colab-df-convert\" onclick=\"convertToInteractive('df-bbe67119-def5-4510-abb9-329a817230d7')\"\n",
       "              title=\"Convert this dataframe to an interactive table.\"\n",
       "              style=\"display:none;\">\n",
       "        \n",
       "  <svg xmlns=\"http://www.w3.org/2000/svg\" height=\"24px\"viewBox=\"0 0 24 24\"\n",
       "       width=\"24px\">\n",
       "    <path d=\"M0 0h24v24H0V0z\" fill=\"none\"/>\n",
       "    <path d=\"M18.56 5.44l.94 2.06.94-2.06 2.06-.94-2.06-.94-.94-2.06-.94 2.06-2.06.94zm-11 1L8.5 8.5l.94-2.06 2.06-.94-2.06-.94L8.5 2.5l-.94 2.06-2.06.94zm10 10l.94 2.06.94-2.06 2.06-.94-2.06-.94-.94-2.06-.94 2.06-2.06.94z\"/><path d=\"M17.41 7.96l-1.37-1.37c-.4-.4-.92-.59-1.43-.59-.52 0-1.04.2-1.43.59L10.3 9.45l-7.72 7.72c-.78.78-.78 2.05 0 2.83L4 21.41c.39.39.9.59 1.41.59.51 0 1.02-.2 1.41-.59l7.78-7.78 2.81-2.81c.8-.78.8-2.07 0-2.86zM5.41 20L4 18.59l7.72-7.72 1.47 1.35L5.41 20z\"/>\n",
       "  </svg>\n",
       "      </button>\n",
       "      \n",
       "  <style>\n",
       "    .colab-df-container {\n",
       "      display:flex;\n",
       "      flex-wrap:wrap;\n",
       "      gap: 12px;\n",
       "    }\n",
       "\n",
       "    .colab-df-convert {\n",
       "      background-color: #E8F0FE;\n",
       "      border: none;\n",
       "      border-radius: 50%;\n",
       "      cursor: pointer;\n",
       "      display: none;\n",
       "      fill: #1967D2;\n",
       "      height: 32px;\n",
       "      padding: 0 0 0 0;\n",
       "      width: 32px;\n",
       "    }\n",
       "\n",
       "    .colab-df-convert:hover {\n",
       "      background-color: #E2EBFA;\n",
       "      box-shadow: 0px 1px 2px rgba(60, 64, 67, 0.3), 0px 1px 3px 1px rgba(60, 64, 67, 0.15);\n",
       "      fill: #174EA6;\n",
       "    }\n",
       "\n",
       "    [theme=dark] .colab-df-convert {\n",
       "      background-color: #3B4455;\n",
       "      fill: #D2E3FC;\n",
       "    }\n",
       "\n",
       "    [theme=dark] .colab-df-convert:hover {\n",
       "      background-color: #434B5C;\n",
       "      box-shadow: 0px 1px 3px 1px rgba(0, 0, 0, 0.15);\n",
       "      filter: drop-shadow(0px 1px 2px rgba(0, 0, 0, 0.3));\n",
       "      fill: #FFFFFF;\n",
       "    }\n",
       "  </style>\n",
       "\n",
       "      <script>\n",
       "        const buttonEl =\n",
       "          document.querySelector('#df-bbe67119-def5-4510-abb9-329a817230d7 button.colab-df-convert');\n",
       "        buttonEl.style.display =\n",
       "          google.colab.kernel.accessAllowed ? 'block' : 'none';\n",
       "\n",
       "        async function convertToInteractive(key) {\n",
       "          const element = document.querySelector('#df-bbe67119-def5-4510-abb9-329a817230d7');\n",
       "          const dataTable =\n",
       "            await google.colab.kernel.invokeFunction('convertToInteractive',\n",
       "                                                     [key], {});\n",
       "          if (!dataTable) return;\n",
       "\n",
       "          const docLinkHtml = 'Like what you see? Visit the ' +\n",
       "            '<a target=\"_blank\" href=https://colab.research.google.com/notebooks/data_table.ipynb>data table notebook</a>'\n",
       "            + ' to learn more about interactive tables.';\n",
       "          element.innerHTML = '';\n",
       "          dataTable['output_type'] = 'display_data';\n",
       "          await google.colab.output.renderOutput(dataTable, element);\n",
       "          const docLink = document.createElement('div');\n",
       "          docLink.innerHTML = docLinkHtml;\n",
       "          element.appendChild(docLink);\n",
       "        }\n",
       "      </script>\n",
       "    </div>\n",
       "  </div>\n",
       "  "
      ],
      "text/plain": [
       "         questions\n",
       "classes           \n",
       "ABBR            86\n",
       "DESC          1162\n",
       "ENTY          1250\n",
       "HUM           1223\n",
       "LOC            835\n",
       "NUM            896"
      ]
     },
     "execution_count": 37,
     "metadata": {},
     "output_type": "execute_result"
    }
   ],
   "source": [
    "training_data.groupby([\"classes\"]).count()"
   ]
  },
  {
   "cell_type": "code",
   "execution_count": null,
   "metadata": {
    "colab": {
     "base_uri": "https://localhost:8080/",
     "height": 269
    },
    "id": "birV1Llb6Eeq",
    "outputId": "333519a7-aa07-483d-ec8f-941f4ef43adf"
   },
   "outputs": [
    {
     "data": {
      "text/html": [
       "\n",
       "  <div id=\"df-d878e649-a279-42cd-9e52-b25ce07e45b0\">\n",
       "    <div class=\"colab-df-container\">\n",
       "      <div>\n",
       "<style scoped>\n",
       "    .dataframe tbody tr th:only-of-type {\n",
       "        vertical-align: middle;\n",
       "    }\n",
       "\n",
       "    .dataframe tbody tr th {\n",
       "        vertical-align: top;\n",
       "    }\n",
       "\n",
       "    .dataframe thead th {\n",
       "        text-align: right;\n",
       "    }\n",
       "</style>\n",
       "<table border=\"1\" class=\"dataframe\">\n",
       "  <thead>\n",
       "    <tr style=\"text-align: right;\">\n",
       "      <th></th>\n",
       "      <th>questions</th>\n",
       "    </tr>\n",
       "    <tr>\n",
       "      <th>classes</th>\n",
       "      <th></th>\n",
       "    </tr>\n",
       "  </thead>\n",
       "  <tbody>\n",
       "    <tr>\n",
       "      <th>ABBR</th>\n",
       "      <td>9</td>\n",
       "    </tr>\n",
       "    <tr>\n",
       "      <th>DESC</th>\n",
       "      <td>138</td>\n",
       "    </tr>\n",
       "    <tr>\n",
       "      <th>ENTY</th>\n",
       "      <td>94</td>\n",
       "    </tr>\n",
       "    <tr>\n",
       "      <th>HUM</th>\n",
       "      <td>65</td>\n",
       "    </tr>\n",
       "    <tr>\n",
       "      <th>LOC</th>\n",
       "      <td>81</td>\n",
       "    </tr>\n",
       "    <tr>\n",
       "      <th>NUM</th>\n",
       "      <td>113</td>\n",
       "    </tr>\n",
       "  </tbody>\n",
       "</table>\n",
       "</div>\n",
       "      <button class=\"colab-df-convert\" onclick=\"convertToInteractive('df-d878e649-a279-42cd-9e52-b25ce07e45b0')\"\n",
       "              title=\"Convert this dataframe to an interactive table.\"\n",
       "              style=\"display:none;\">\n",
       "        \n",
       "  <svg xmlns=\"http://www.w3.org/2000/svg\" height=\"24px\"viewBox=\"0 0 24 24\"\n",
       "       width=\"24px\">\n",
       "    <path d=\"M0 0h24v24H0V0z\" fill=\"none\"/>\n",
       "    <path d=\"M18.56 5.44l.94 2.06.94-2.06 2.06-.94-2.06-.94-.94-2.06-.94 2.06-2.06.94zm-11 1L8.5 8.5l.94-2.06 2.06-.94-2.06-.94L8.5 2.5l-.94 2.06-2.06.94zm10 10l.94 2.06.94-2.06 2.06-.94-2.06-.94-.94-2.06-.94 2.06-2.06.94z\"/><path d=\"M17.41 7.96l-1.37-1.37c-.4-.4-.92-.59-1.43-.59-.52 0-1.04.2-1.43.59L10.3 9.45l-7.72 7.72c-.78.78-.78 2.05 0 2.83L4 21.41c.39.39.9.59 1.41.59.51 0 1.02-.2 1.41-.59l7.78-7.78 2.81-2.81c.8-.78.8-2.07 0-2.86zM5.41 20L4 18.59l7.72-7.72 1.47 1.35L5.41 20z\"/>\n",
       "  </svg>\n",
       "      </button>\n",
       "      \n",
       "  <style>\n",
       "    .colab-df-container {\n",
       "      display:flex;\n",
       "      flex-wrap:wrap;\n",
       "      gap: 12px;\n",
       "    }\n",
       "\n",
       "    .colab-df-convert {\n",
       "      background-color: #E8F0FE;\n",
       "      border: none;\n",
       "      border-radius: 50%;\n",
       "      cursor: pointer;\n",
       "      display: none;\n",
       "      fill: #1967D2;\n",
       "      height: 32px;\n",
       "      padding: 0 0 0 0;\n",
       "      width: 32px;\n",
       "    }\n",
       "\n",
       "    .colab-df-convert:hover {\n",
       "      background-color: #E2EBFA;\n",
       "      box-shadow: 0px 1px 2px rgba(60, 64, 67, 0.3), 0px 1px 3px 1px rgba(60, 64, 67, 0.15);\n",
       "      fill: #174EA6;\n",
       "    }\n",
       "\n",
       "    [theme=dark] .colab-df-convert {\n",
       "      background-color: #3B4455;\n",
       "      fill: #D2E3FC;\n",
       "    }\n",
       "\n",
       "    [theme=dark] .colab-df-convert:hover {\n",
       "      background-color: #434B5C;\n",
       "      box-shadow: 0px 1px 3px 1px rgba(0, 0, 0, 0.15);\n",
       "      filter: drop-shadow(0px 1px 2px rgba(0, 0, 0, 0.3));\n",
       "      fill: #FFFFFF;\n",
       "    }\n",
       "  </style>\n",
       "\n",
       "      <script>\n",
       "        const buttonEl =\n",
       "          document.querySelector('#df-d878e649-a279-42cd-9e52-b25ce07e45b0 button.colab-df-convert');\n",
       "        buttonEl.style.display =\n",
       "          google.colab.kernel.accessAllowed ? 'block' : 'none';\n",
       "\n",
       "        async function convertToInteractive(key) {\n",
       "          const element = document.querySelector('#df-d878e649-a279-42cd-9e52-b25ce07e45b0');\n",
       "          const dataTable =\n",
       "            await google.colab.kernel.invokeFunction('convertToInteractive',\n",
       "                                                     [key], {});\n",
       "          if (!dataTable) return;\n",
       "\n",
       "          const docLinkHtml = 'Like what you see? Visit the ' +\n",
       "            '<a target=\"_blank\" href=https://colab.research.google.com/notebooks/data_table.ipynb>data table notebook</a>'\n",
       "            + ' to learn more about interactive tables.';\n",
       "          element.innerHTML = '';\n",
       "          dataTable['output_type'] = 'display_data';\n",
       "          await google.colab.output.renderOutput(dataTable, element);\n",
       "          const docLink = document.createElement('div');\n",
       "          docLink.innerHTML = docLinkHtml;\n",
       "          element.appendChild(docLink);\n",
       "        }\n",
       "      </script>\n",
       "    </div>\n",
       "  </div>\n",
       "  "
      ],
      "text/plain": [
       "         questions\n",
       "classes           \n",
       "ABBR             9\n",
       "DESC           138\n",
       "ENTY            94\n",
       "HUM             65\n",
       "LOC             81\n",
       "NUM            113"
      ]
     },
     "execution_count": 38,
     "metadata": {},
     "output_type": "execute_result"
    }
   ],
   "source": [
    "testing_data.groupby([\"classes\"]).count()"
   ]
  },
  {
   "cell_type": "markdown",
   "metadata": {
    "id": "WtHnuPux6Joy"
   },
   "source": [
    "Looking at training data classes distribution we can see that we have too few examples for some kind (like ABBR questions...).\n",
    "We could try to add an hidden layer to the model in order to get the model to learn more patterns living inside the data... (but probably this is not going to solve the problem of data unbalancing and scarsity...)"
   ]
  },
  {
   "cell_type": "markdown",
   "metadata": {
    "id": "Dmxf2ryitUyi"
   },
   "source": [
    "#MODEL 5\n",
    "Let's add an hidden layer to the previous model.\n",
    "\n",
    "This new hidden layer has 10k neurons.\n",
    "\n",
    "Activation Function,Droupout,Optimizer,Loss Function are the same as before."
   ]
  },
  {
   "cell_type": "code",
   "execution_count": null,
   "metadata": {
    "colab": {
     "base_uri": "https://localhost:8080/"
    },
    "id": "XhauUecKnX6D",
    "outputId": "bac545f8-c247-4cdc-bfef-523c16882dcb"
   },
   "outputs": [
    {
     "name": "stdout",
     "output_type": "stream",
     "text": [
      "MLP(\n",
      "  (fc1): Linear(in_features=8410, out_features=10000, bias=True)\n",
      "  (fc2): Linear(in_features=10000, out_features=6, bias=True)\n",
      "  (dropout): Dropout(p=0.4, inplace=False)\n",
      ")\n"
     ]
    }
   ],
   "source": [
    "import torch.nn as nn\n",
    "import torch.nn.functional as F\n",
    "\n",
    "## Define the NN architecture\n",
    "class MLP(nn.Module):\n",
    "    def __init__(self):\n",
    "        super(MLP, self).__init__()\n",
    "        self.fc1 = nn.Linear(input_dim, 10000)\n",
    "        # linear layer (n_hidden -> hidden_2)\n",
    "        self.fc2 = nn.Linear(10000, output_dim)\n",
    "        # linear layer (n_hidden -> 10)\n",
    "        #self.fc3 = nn.Linear(20, 10)\n",
    "        # dropout layer (p=0.2)\n",
    "        # dropout prevents overfitting of data\n",
    "        self.dropout = nn.Dropout(0.4)\n",
    "\n",
    "        self.relu = F.relu\n",
    "\n",
    "    def forward(self, x):\n",
    "        # flatten image input\n",
    "        x = x.view(-1, input_dim)\n",
    "        # add hidden layer, with relu activation function\n",
    "        #x = self.fc2(self.dropout(self.relu(self.fc1(x))))\n",
    "        x = self.fc2(self.relu(self.fc1(x)))\n",
    "        return x\n",
    "\n",
    "# initialize the NN\n",
    "model5 = MLP()\n",
    "print(model5)"
   ]
  },
  {
   "cell_type": "markdown",
   "metadata": {
    "id": "dKlkr3vz8wkt"
   },
   "source": [
    "Redefining the optimizer...\n",
    "\n",
    "Remember the loss function is the Cross Entropy as defined above..."
   ]
  },
  {
   "cell_type": "code",
   "execution_count": null,
   "metadata": {
    "id": "6PAT0UxinX2s"
   },
   "outputs": [],
   "source": [
    "optimizer5 = torch.optim.SGD(model5.parameters(), lr=0.01)"
   ]
  },
  {
   "cell_type": "markdown",
   "metadata": {
    "id": "N_FBawjg9BSl"
   },
   "source": [
    "Let's train the model for 10 epochs"
   ]
  },
  {
   "cell_type": "code",
   "execution_count": null,
   "metadata": {
    "colab": {
     "base_uri": "https://localhost:8080/"
    },
    "id": "lgsZo3QhnXz-",
    "outputId": "065cf683-72be-4791-d056-d6ddf2b4ec07"
   },
   "outputs": [
    {
     "name": "stdout",
     "output_type": "stream",
     "text": [
      "Epoch: 1 \tTraining Loss: 1.762236\n",
      "Epoch: 2 \tTraining Loss: 1.721175\n",
      "Epoch: 3 \tTraining Loss: 1.697410\n",
      "Epoch: 4 \tTraining Loss: 1.682358\n",
      "Epoch: 5 \tTraining Loss: 1.672167\n",
      "Epoch: 6 \tTraining Loss: 1.664661\n",
      "Epoch: 7 \tTraining Loss: 1.658997\n",
      "Epoch: 8 \tTraining Loss: 1.654466\n",
      "Epoch: 9 \tTraining Loss: 1.650714\n",
      "Epoch: 10 \tTraining Loss: 1.647455\n"
     ]
    }
   ],
   "source": [
    "# number of epochs to train the model\n",
    "n_epochs = 10  # suggest training between 20-50 epochs\n",
    "\n",
    "model5.train() # prep model for training\n",
    "\n",
    "for epoch in range(n_epochs):\n",
    "    # monitor training loss\n",
    "    train_loss = 0.0\n",
    "    \n",
    "    ###################\n",
    "    # train the model #\n",
    "    ###################\n",
    "    for data, target in train_dataloader:\n",
    "        #target = target.argmax(dim=1)\n",
    "        # clear the gradients of all optimized variables\n",
    "        optimizer5.zero_grad() \n",
    "        # forward pass: compute predicted outputs by passing inputs to the model\n",
    "        output = model5(data)\n",
    "        # calculate the loss\n",
    "        loss = criterion(output, target)\n",
    "        # backward pass: compute gradient of the loss with respect to model parameters\n",
    "        loss.backward()\n",
    "        # perform a single optimization step (parameter update)\n",
    "        optimizer5.step()\n",
    "        # update running training loss\n",
    "        train_loss += loss.item()*data.size(0)\n",
    "        \n",
    "    # print training statistics \n",
    "    # calculate average loss over an epoch\n",
    "    train_loss = train_loss/len(train_dataloader.dataset)\n",
    "\n",
    "    print('Epoch: {} \\tTraining Loss: {:.6f}'.format(\n",
    "        epoch+1, \n",
    "        train_loss\n",
    "        ))"
   ]
  },
  {
   "cell_type": "code",
   "execution_count": null,
   "metadata": {
    "colab": {
     "base_uri": "https://localhost:8080/"
    },
    "id": "FPlF9tyilMMz",
    "outputId": "2ef4b3bb-4a30-4391-faf3-314cf5b5b2f0"
   },
   "outputs": [
    {
     "name": "stdout",
     "output_type": "stream",
     "text": [
      "Test Loss: 1.672905\n",
      "\n",
      "Test Accuracy of     0:  0% ( 0/138)\n",
      "Test Accuracy of     1: 100% (94/94)\n",
      "Test Accuracy of     2:  0% ( 0/ 9)\n",
      "Test Accuracy of     3: 73% (48/65)\n",
      "Test Accuracy of     4:  0% ( 0/113)\n",
      "Test Accuracy of     5:  0% ( 0/81)\n",
      "\n",
      "Test Accuracy (Overall): 28% (142/500)\n"
     ]
    }
   ],
   "source": [
    "# initialize lists to monitor test loss and accuracy\n",
    "test_loss = 0.0\n",
    "class_correct = list(0. for i in range(6))\n",
    "class_total = list(0. for i in range(6))\n",
    "\n",
    "model5.eval() # prep model for *evaluation*\n",
    "\n",
    "for data, target in test_dataloader:\n",
    "    # forward pass: compute predicted outputs by passing inputs to the model\n",
    "    output = model5(data)\n",
    "    # calculate the loss\n",
    "    loss = criterion(output, target)\n",
    "    # update test loss \n",
    "    test_loss += loss.item()*data.size(0)\n",
    "    # convert output probabilities to predicted class\n",
    "    _, pred = torch.max(output, 1)\n",
    "    # compare predictions to true label\n",
    "    correct = np.squeeze(pred.eq(target.data.view_as(pred)))\n",
    "    # calculate test accuracy for each object class\n",
    "    for i in range(len(target.data)):\n",
    "        label = target.data[i]\n",
    "        class_correct[label] += correct[i].item()\n",
    "        class_total[label] += 1\n",
    "\n",
    "# calculate and print avg test loss\n",
    "test_loss = test_loss/len(test_dataloader.dataset)\n",
    "print('Test Loss: {:.6f}\\n'.format(test_loss))\n",
    "\n",
    "for i in range(6):\n",
    "    if class_total[i] > 0:\n",
    "        print('Test Accuracy of %5s: %2d%% (%2d/%2d)' % (\n",
    "            str(i), 100 * class_correct[i] / class_total[i],\n",
    "            np.sum(class_correct[i]), np.sum(class_total[i])))\n",
    "    else:\n",
    "        print('Test Accuracy of %5s: N/A (no training examples)' % (class_total[i]))\n",
    "\n",
    "print('\\nTest Accuracy (Overall): %2d%% (%2d/%2d)' % (\n",
    "    100. * np.sum(class_correct) / np.sum(class_total),\n",
    "    np.sum(class_correct), np.sum(class_total)))"
   ]
  },
  {
   "cell_type": "markdown",
   "metadata": {
    "id": "8fQq-8p_89VO"
   },
   "source": [
    "Marginal and Overall Accuracy are worse than in the previous model..."
   ]
  },
  {
   "cell_type": "markdown",
   "metadata": {
    "id": "65HwPKxC9Wz0"
   },
   "source": [
    "Since we have too few examples an interest experiment could consists in accumulating the gradient during the training phase. Due to this approach batches gradient won't be independent but will be connected one to another since the gradient on the current one is used for calculating the gradient of the next one..."
   ]
  },
  {
   "cell_type": "markdown",
   "metadata": {
    "id": "c9dJZFI5-cWI"
   },
   "source": [
    "Redefining the optimizer...\n",
    "\n",
    "Remember the loss function is the Cross Entropy as defined above..."
   ]
  },
  {
   "cell_type": "code",
   "execution_count": null,
   "metadata": {
    "id": "d3mYtINh9YXm"
   },
   "outputs": [],
   "source": [
    "optimizer5 = torch.optim.SGD(model5.parameters(), lr=0.01)"
   ]
  },
  {
   "cell_type": "code",
   "execution_count": null,
   "metadata": {
    "colab": {
     "base_uri": "https://localhost:8080/"
    },
    "id": "N_rXUN5l9YD8",
    "outputId": "eafbb470-9ae7-4c2d-80fc-04e71bdad8ae"
   },
   "outputs": [
    {
     "name": "stdout",
     "output_type": "stream",
     "text": [
      "Epoch: 1 \tTraining Loss: 1.571610\n",
      "Epoch: 2 \tTraining Loss: 0.851995\n",
      "Epoch: 3 \tTraining Loss: 0.477111\n",
      "Epoch: 4 \tTraining Loss: 0.333735\n",
      "Epoch: 5 \tTraining Loss: 0.300432\n",
      "Epoch: 6 \tTraining Loss: 0.186150\n",
      "Epoch: 7 \tTraining Loss: 0.143337\n",
      "Epoch: 8 \tTraining Loss: 0.241455\n",
      "Epoch: 9 \tTraining Loss: 0.306635\n",
      "Epoch: 10 \tTraining Loss: 0.192466\n"
     ]
    }
   ],
   "source": [
    "# number of epochs to train the model\n",
    "n_epochs = 10  # suggest training between 20-50 epochs\n",
    "\n",
    "model5.train() # prep model for training\n",
    "\n",
    "for epoch in range(n_epochs):\n",
    "    # monitor training loss\n",
    "    train_loss = 0.0\n",
    "    \n",
    "    ###################\n",
    "    # train the model #\n",
    "    ###################\n",
    "    for data, target in train_dataloader:\n",
    "        #target = target.argmax(dim=1)\n",
    "        # clear the gradients of all optimized variables\n",
    "        #optimizer5.zero_grad() #NOTE WE DON'T CLEAR THE GRADIENT FROM ONE BATCH CALCULUS TO ANOTHER\n",
    "        # forward pass: compute predicted outputs by passing inputs to the model\n",
    "        output = model5(data)\n",
    "        # calculate the loss\n",
    "        loss = criterion(output, target)\n",
    "        # backward pass: compute gradient of the loss with respect to model parameters\n",
    "        loss.backward()\n",
    "        # perform a single optimization step (parameter update)\n",
    "        optimizer5.step()\n",
    "        # update running training loss\n",
    "        train_loss += loss.item()*data.size(0)\n",
    "        \n",
    "    # print training statistics \n",
    "    # calculate average loss over an epoch\n",
    "    train_loss = train_loss/len(train_dataloader.dataset)\n",
    "\n",
    "    print('Epoch: {} \\tTraining Loss: {:.6f}'.format(\n",
    "        epoch+1, \n",
    "        train_loss\n",
    "        ))"
   ]
  },
  {
   "cell_type": "code",
   "execution_count": null,
   "metadata": {
    "colab": {
     "base_uri": "https://localhost:8080/"
    },
    "id": "jPtxJNd8-5wH",
    "outputId": "1ced562d-f46b-4b9d-97bc-e205f98a626b"
   },
   "outputs": [
    {
     "name": "stdout",
     "output_type": "stream",
     "text": [
      "Test Loss: 3.792406\n",
      "\n",
      "Test Accuracy of     0: 78% (108/138)\n",
      "Test Accuracy of     1: 89% (84/94)\n",
      "Test Accuracy of     2: 77% ( 7/ 9)\n",
      "Test Accuracy of     3: 84% (55/65)\n",
      "Test Accuracy of     4: 91% (103/113)\n",
      "Test Accuracy of     5: 79% (64/81)\n",
      "\n",
      "Test Accuracy (Overall): 84% (421/500)\n"
     ]
    }
   ],
   "source": [
    "# initialize lists to monitor test loss and accuracy\n",
    "test_loss = 0.0\n",
    "class_correct = list(0. for i in range(6))\n",
    "class_total = list(0. for i in range(6))\n",
    "\n",
    "model5.eval() # prep model for *evaluation*\n",
    "\n",
    "for data, target in test_dataloader:\n",
    "    # forward pass: compute predicted outputs by passing inputs to the model\n",
    "    output = model5(data)\n",
    "    # calculate the loss\n",
    "    loss = criterion(output, target)\n",
    "    # update test loss \n",
    "    test_loss += loss.item()*data.size(0)\n",
    "    # convert output probabilities to predicted class\n",
    "    _, pred = torch.max(output, 1)\n",
    "    # compare predictions to true label\n",
    "    correct = np.squeeze(pred.eq(target.data.view_as(pred)))\n",
    "    # calculate test accuracy for each object class\n",
    "    for i in range(len(target.data)):\n",
    "        label = target.data[i]\n",
    "        class_correct[label] += correct[i].item()\n",
    "        class_total[label] += 1\n",
    "\n",
    "# calculate and print avg test loss\n",
    "test_loss = test_loss/len(test_dataloader.dataset)\n",
    "print('Test Loss: {:.6f}\\n'.format(test_loss))\n",
    "\n",
    "for i in range(6):\n",
    "    if class_total[i] > 0:\n",
    "        print('Test Accuracy of %5s: %2d%% (%2d/%2d)' % (\n",
    "            str(i), 100 * class_correct[i] / class_total[i],\n",
    "            np.sum(class_correct[i]), np.sum(class_total[i])))\n",
    "    else:\n",
    "        print('Test Accuracy of %5s: N/A (no training examples)' % (class_total[i]))\n",
    "\n",
    "print('\\nTest Accuracy (Overall): %2d%% (%2d/%2d)' % (\n",
    "    100. * np.sum(class_correct) / np.sum(class_total),\n",
    "    np.sum(class_correct), np.sum(class_total)))"
   ]
  },
  {
   "cell_type": "markdown",
   "metadata": {
    "id": "Zf2OU9XYClmz"
   },
   "source": [
    "Marginal and Overall accuracy get better than in the previous model.\n",
    "\n",
    "#Possible Interpretation\n",
    " Due to data unbalancing it happens often that in several batches there are not examples for each class. \n",
    " \n",
    "Gradient Accumulation counteracts this issue since optimizer adjusts weights at each batch-step considering also examples seen in previous batch-steps."
   ]
  },
  {
   "cell_type": "markdown",
   "metadata": {
    "id": "4mDB1ujMDonx"
   },
   "source": [
    "Now let's feed the model with bert-encoded data..."
   ]
  },
  {
   "cell_type": "code",
   "execution_count": 12,
   "metadata": {
    "id": "NIf3fXAPDwqq"
   },
   "outputs": [],
   "source": [
    "columns = ['bert_embedding']\n",
    "\n",
    "bert_training_data = pd.read_csv(\"./train_embeddings_sbert.txt\",header=None,names=columns)\n",
    "bert_testing_data = pd.read_csv(\"./test_embeddings_sbert.txt\",header=None,names=columns)"
   ]
  },
  {
   "cell_type": "code",
   "execution_count": 29,
   "metadata": {
    "id": "DmxQ8zWUd1AG"
   },
   "outputs": [],
   "source": [
    "#inside the df we have strings of symbols representing float numbers for each question like {\"0.2383 -0.23232 0.32323 ...\",\"0.1187 -0.2785 0.523 ...\",...}\n",
    "#we need an array of arrays of questions embedding\n",
    "#so we need to convert strings into arrays like [[0.2383,-0.23232,0.32323,...],[0.1187,-0.2785,0.523,...],...]\n",
    "\n",
    "X_train = []\n",
    "\n",
    "for emb in bert_training_data[\"bert_embedding\"].tolist(): \n",
    "  question_vector = [float(value) for value in emb.split()]\n",
    "  X_train.append(question_vector)\n",
    "\n",
    "X_train = np.array(X_train) #for dataloader we need numpy array\n",
    "\n",
    "X_test = []\n",
    "\n",
    "for emb in bert_testing_data[\"bert_embedding\"].tolist():\n",
    "  question_vector = [float(value) for value in emb.split()]\n",
    "  X_test.append(question_vector)\n",
    "\n",
    "X_test = np.array(X_test)"
   ]
  },
  {
   "cell_type": "code",
   "execution_count": 32,
   "metadata": {
    "id": "V8mbGRd-dUsM"
   },
   "outputs": [],
   "source": [
    "import torch\n",
    "\n",
    "#NOTE Y_train and Y_test are the same as before since targets have not changed\n",
    "\n",
    "X_train = torch.from_numpy(X_train).float()\n",
    "Y_train = torch.from_numpy(Y_train).long()\n",
    "\n",
    "X_test = torch.from_numpy(X_test).float() \n",
    "Y_test = torch.from_numpy(Y_test).long() "
   ]
  },
  {
   "cell_type": "code",
   "execution_count": 33,
   "metadata": {
    "id": "JnMKtEtKdUpi"
   },
   "outputs": [],
   "source": [
    "from torch.utils.data import TensorDataset, DataLoader, RandomSampler, SequentialSampler\n",
    "\n",
    "# how many samples per batch to load\n",
    "batch_size = 32\n",
    "\n",
    "train_data = TensorDataset(X_train,Y_train)\n",
    "train_dataloader = DataLoader(train_data, batch_size=batch_size, shuffle=True)\n",
    "\n",
    "test_data = TensorDataset(X_test,Y_test)\n",
    "test_dataloader = DataLoader(test_data, batch_size=batch_size, shuffle=True)"
   ]
  },
  {
   "cell_type": "code",
   "execution_count": 34,
   "metadata": {
    "id": "LmH09Lh1bnMe"
   },
   "outputs": [],
   "source": [
    "input_dim = len(X_train[0])  #len(X_train[0]) == number of features for each datum == tokens embedding in bert ---> 768  \n",
    "output_dim = len(classes)"
   ]
  },
  {
   "cell_type": "markdown",
   "metadata": {
    "id": "CmFm4qnT8-06"
   },
   "source": [
    "#MODEL 6\n",
    "This model will be the same as MODEL 4 but input layer has 768 neurons..."
   ]
  },
  {
   "cell_type": "code",
   "execution_count": 36,
   "metadata": {
    "colab": {
     "base_uri": "https://localhost:8080/"
    },
    "id": "GJZJCJvC9PKg",
    "outputId": "9efdcffe-43bb-4e1e-9279-2f9cee226915"
   },
   "outputs": [
    {
     "name": "stdout",
     "output_type": "stream",
     "text": [
      "Net(\n",
      "  (fc): Linear(in_features=768, out_features=6, bias=True)\n",
      "  (dropout): Dropout(p=0.2, inplace=False)\n",
      ")\n"
     ]
    }
   ],
   "source": [
    "import torch.nn as nn\n",
    "import torch.nn.functional as F\n",
    "\n",
    "## Define the NN architecture\n",
    "class Net(nn.Module):\n",
    "    def __init__(self):\n",
    "        super(Net, self).__init__()\n",
    "        self.fc = nn.Linear(input_dim, output_dim)\n",
    "    \n",
    "        self.dropout = nn.Dropout(0.2)\n",
    "\n",
    "    def forward(self, x):\n",
    "        # flatten image input\n",
    "        x = x.view(-1, input_dim)\n",
    "        # we can apply dropout\n",
    "        x = self.dropout(x)\n",
    "        # add hidden layer, with relu activation function\n",
    "        x = self.fc(x)\n",
    "        \n",
    "        return x\n",
    "\n",
    "# initialize the NN\n",
    "model6 = Net()\n",
    "print(model6)"
   ]
  },
  {
   "cell_type": "code",
   "execution_count": 37,
   "metadata": {
    "id": "OwgolDUz9PQy"
   },
   "outputs": [],
   "source": [
    "optimizer6 = torch.optim.SGD(model6.parameters(), lr=0.01)"
   ]
  },
  {
   "cell_type": "markdown",
   "metadata": {
    "id": "4sMEaaLn9sgY"
   },
   "source": [
    "Hyperparametres are the same as for Model4 ...\n",
    "\n",
    "Train the model for 40 epochs..."
   ]
  },
  {
   "cell_type": "code",
   "execution_count": 38,
   "metadata": {
    "colab": {
     "base_uri": "https://localhost:8080/"
    },
    "id": "_x0asRFD9cPp",
    "outputId": "f450dd59-df07-4396-8acf-562bb1e98e98"
   },
   "outputs": [
    {
     "name": "stdout",
     "output_type": "stream",
     "text": [
      "Epoch: 1 \tTraining Loss: 1.211812\n",
      "Epoch: 2 \tTraining Loss: 0.797891\n",
      "Epoch: 3 \tTraining Loss: 0.682331\n",
      "Epoch: 4 \tTraining Loss: 0.623571\n",
      "Epoch: 5 \tTraining Loss: 0.591124\n",
      "Epoch: 6 \tTraining Loss: 0.559326\n",
      "Epoch: 7 \tTraining Loss: 0.536590\n",
      "Epoch: 8 \tTraining Loss: 0.517123\n",
      "Epoch: 9 \tTraining Loss: 0.501218\n",
      "Epoch: 10 \tTraining Loss: 0.490274\n",
      "Epoch: 11 \tTraining Loss: 0.478981\n",
      "Epoch: 12 \tTraining Loss: 0.467745\n",
      "Epoch: 13 \tTraining Loss: 0.462172\n",
      "Epoch: 14 \tTraining Loss: 0.451623\n",
      "Epoch: 15 \tTraining Loss: 0.451684\n",
      "Epoch: 16 \tTraining Loss: 0.442569\n",
      "Epoch: 17 \tTraining Loss: 0.438488\n",
      "Epoch: 18 \tTraining Loss: 0.436122\n",
      "Epoch: 19 \tTraining Loss: 0.425953\n",
      "Epoch: 20 \tTraining Loss: 0.428539\n",
      "Epoch: 21 \tTraining Loss: 0.414698\n",
      "Epoch: 22 \tTraining Loss: 0.415673\n",
      "Epoch: 23 \tTraining Loss: 0.409887\n",
      "Epoch: 24 \tTraining Loss: 0.406636\n",
      "Epoch: 25 \tTraining Loss: 0.402674\n",
      "Epoch: 26 \tTraining Loss: 0.396785\n",
      "Epoch: 27 \tTraining Loss: 0.397417\n",
      "Epoch: 28 \tTraining Loss: 0.390642\n",
      "Epoch: 29 \tTraining Loss: 0.393506\n",
      "Epoch: 30 \tTraining Loss: 0.387004\n",
      "Epoch: 31 \tTraining Loss: 0.385727\n",
      "Epoch: 32 \tTraining Loss: 0.382173\n",
      "Epoch: 33 \tTraining Loss: 0.384125\n",
      "Epoch: 34 \tTraining Loss: 0.382760\n",
      "Epoch: 35 \tTraining Loss: 0.384125\n",
      "Epoch: 36 \tTraining Loss: 0.371295\n",
      "Epoch: 37 \tTraining Loss: 0.371814\n",
      "Epoch: 38 \tTraining Loss: 0.374339\n",
      "Epoch: 39 \tTraining Loss: 0.371711\n",
      "Epoch: 40 \tTraining Loss: 0.367723\n"
     ]
    }
   ],
   "source": [
    "# number of epochs to train the model\n",
    "n_epochs = 40  # suggest training between 20-50 epochs\n",
    "\n",
    "model6.train() # prep model for training\n",
    "\n",
    "for epoch in range(n_epochs):\n",
    "    # monitor training loss\n",
    "    train_loss = 0.0\n",
    "    \n",
    "    ###################\n",
    "    # train the model #\n",
    "    ###################\n",
    "    for data, target in train_dataloader:\n",
    "        #target = target.argmax(dim=1)\n",
    "        # clear the gradients of all optimized variables\n",
    "        optimizer6.zero_grad() #NOTE we don't clear the gradient\n",
    "        # forward pass: compute predicted outputs by passing inputs to the model\n",
    "        output = model6(data)\n",
    "        # calculate the loss\n",
    "        loss = criterion(output, target)\n",
    "        # backward pass: compute gradient of the loss with respect to model parameters\n",
    "        loss.backward()\n",
    "        # perform a single optimization step (parameter update)\n",
    "        optimizer6.step()\n",
    "        # update running training loss\n",
    "        train_loss += loss.item()*data.size(0)\n",
    "        \n",
    "    # print training statistics \n",
    "    # calculate average loss over an epoch\n",
    "    train_loss = train_loss/len(train_dataloader.dataset)\n",
    "\n",
    "    print('Epoch: {} \\tTraining Loss: {:.6f}'.format(\n",
    "        epoch+1, \n",
    "        train_loss\n",
    "        ))"
   ]
  },
  {
   "cell_type": "code",
   "execution_count": 40,
   "metadata": {
    "colab": {
     "base_uri": "https://localhost:8080/"
    },
    "id": "N9janMgr9cKe",
    "outputId": "89ba86d1-0d32-4142-cc75-eede71cf6794"
   },
   "outputs": [
    {
     "name": "stdout",
     "output_type": "stream",
     "text": [
      "Test Loss: 0.290563\n",
      "\n",
      "Test Accuracy of     0: 95% (132/138)\n",
      "Test Accuracy of     1: 81% (77/94)\n",
      "Test Accuracy of     2: 88% ( 8/ 9)\n",
      "Test Accuracy of     3: 93% (61/65)\n",
      "Test Accuracy of     4: 96% (109/113)\n",
      "Test Accuracy of     5: 91% (74/81)\n",
      "\n",
      "Test Accuracy (Overall): 92% (461/500)\n"
     ]
    }
   ],
   "source": [
    "# initialize lists to monitor test loss and accuracy\n",
    "test_loss = 0.0\n",
    "class_correct = list(0. for i in range(6))\n",
    "class_total = list(0. for i in range(6))\n",
    "\n",
    "model6.eval() # prep model for *evaluation*\n",
    "\n",
    "for data, target in test_dataloader:\n",
    "    # forward pass: compute predicted outputs by passing inputs to the model\n",
    "    output = model6(data)\n",
    "    # calculate the loss\n",
    "    loss = criterion(output, target)\n",
    "    # update test loss \n",
    "    test_loss += loss.item()*data.size(0)\n",
    "    # convert output probabilities to predicted class\n",
    "    _, pred = torch.max(output, 1)\n",
    "    # compare predictions to true label\n",
    "    correct = np.squeeze(pred.eq(target.data.view_as(pred)))\n",
    "    # calculate test accuracy for each object class\n",
    "    for i in range(len(target.data)):\n",
    "        label = target.data[i]\n",
    "        class_correct[label] += correct[i].item()\n",
    "        class_total[label] += 1\n",
    "\n",
    "# calculate and print avg test loss\n",
    "test_loss = test_loss/len(test_dataloader.dataset)\n",
    "print('Test Loss: {:.6f}\\n'.format(test_loss))\n",
    "\n",
    "for i in range(6):\n",
    "    if class_total[i] > 0:\n",
    "        print('Test Accuracy of %5s: %2d%% (%2d/%2d)' % (\n",
    "            str(i), 100 * class_correct[i] / class_total[i],\n",
    "            np.sum(class_correct[i]), np.sum(class_total[i])))\n",
    "    else:\n",
    "        print('Test Accuracy of %5s: N/A (no training examples)' % (class_total[i]))\n",
    "\n",
    "print('\\nTest Accuracy (Overall): %2d%% (%2d/%2d)' % (\n",
    "    100. * np.sum(class_correct) / np.sum(class_total),\n",
    "    np.sum(class_correct), np.sum(class_total)))"
   ]
  },
  {
   "cell_type": "markdown",
   "metadata": {
    "id": "WW9RIV7F-M5S"
   },
   "source": [
    "#Considerations\n",
    "\n",
    "Marginal and Overall Accuracy on test set increased very significantly.\n",
    "\n",
    "Bert Embedding considers only 768 features vs TFIDF Embedding that considers more than 8k features.\n",
    "\n",
    "This means that the major of TFIDF embedding features are useless. \n"
   ]
  },
  {
   "cell_type": "markdown",
   "metadata": {
    "id": "_j7xSczE_IW-"
   },
   "source": [
    "#MODEL 7\n",
    "This model will be the same as MODEL 5 but input layer has 768 neurons..."
   ]
  },
  {
   "cell_type": "code",
   "execution_count": 41,
   "metadata": {
    "colab": {
     "base_uri": "https://localhost:8080/"
    },
    "id": "or0AInUz_BDy",
    "outputId": "16bc4917-43e9-47c9-a45e-8cf0b4e0b3d7"
   },
   "outputs": [
    {
     "name": "stdout",
     "output_type": "stream",
     "text": [
      "MLP(\n",
      "  (fc1): Linear(in_features=768, out_features=10000, bias=True)\n",
      "  (fc2): Linear(in_features=10000, out_features=6, bias=True)\n",
      "  (dropout): Dropout(p=0.4, inplace=False)\n",
      ")\n"
     ]
    }
   ],
   "source": [
    "import torch.nn as nn\n",
    "import torch.nn.functional as F\n",
    "\n",
    "## Define the NN architecture\n",
    "class MLP(nn.Module):\n",
    "    def __init__(self):\n",
    "        super(MLP, self).__init__()\n",
    "        self.fc1 = nn.Linear(input_dim, 10000)\n",
    "        # linear layer (n_hidden -> hidden_2)\n",
    "        self.fc2 = nn.Linear(10000, output_dim)\n",
    "        # linear layer (n_hidden -> 10)\n",
    "        #self.fc3 = nn.Linear(20, 10)\n",
    "        # dropout layer (p=0.2)\n",
    "        # dropout prevents overfitting of data\n",
    "        self.dropout = nn.Dropout(0.4)\n",
    "\n",
    "        self.relu = F.relu\n",
    "\n",
    "    def forward(self, x):\n",
    "        # flatten image input\n",
    "        x = x.view(-1, input_dim)\n",
    "        # add hidden layer, with relu activation function\n",
    "        #x = self.fc2(self.dropout(self.relu(self.fc1(x))))\n",
    "        x = self.fc2(self.relu(self.fc1(x)))\n",
    "        return x\n",
    "\n",
    "# initialize the NN\n",
    "model7 = MLP()\n",
    "print(model7)"
   ]
  },
  {
   "cell_type": "code",
   "execution_count": 42,
   "metadata": {
    "id": "I6zZwUz__BBA"
   },
   "outputs": [],
   "source": [
    "optimizer7 = torch.optim.SGD(model7.parameters(), lr=0.01)"
   ]
  },
  {
   "cell_type": "markdown",
   "metadata": {
    "id": "wOTGvYU2_mbL"
   },
   "source": [
    "Same Hyperparametres as for model 5"
   ]
  },
  {
   "cell_type": "code",
   "execution_count": 43,
   "metadata": {
    "colab": {
     "base_uri": "https://localhost:8080/"
    },
    "id": "2l7fAhRL_A-g",
    "outputId": "588e43c0-1197-4b41-f006-4dadc9ccb507"
   },
   "outputs": [
    {
     "name": "stdout",
     "output_type": "stream",
     "text": [
      "Epoch: 1 \tTraining Loss: 1.067928\n",
      "Epoch: 2 \tTraining Loss: 0.670650\n",
      "Epoch: 3 \tTraining Loss: 0.553964\n",
      "Epoch: 4 \tTraining Loss: 0.488068\n",
      "Epoch: 5 \tTraining Loss: 0.439365\n",
      "Epoch: 6 \tTraining Loss: 0.403290\n",
      "Epoch: 7 \tTraining Loss: 0.370806\n",
      "Epoch: 8 \tTraining Loss: 0.345031\n",
      "Epoch: 9 \tTraining Loss: 0.319999\n",
      "Epoch: 10 \tTraining Loss: 0.298622\n"
     ]
    }
   ],
   "source": [
    "# number of epochs to train the model\n",
    "n_epochs = 10  # suggest training between 20-50 epochs\n",
    "\n",
    "model7.train() # prep model for training\n",
    "\n",
    "for epoch in range(n_epochs):\n",
    "    # monitor training loss\n",
    "    train_loss = 0.0\n",
    "    \n",
    "    ###################\n",
    "    # train the model #\n",
    "    ###################\n",
    "    for data, target in train_dataloader:\n",
    "        #target = target.argmax(dim=1)\n",
    "        # clear the gradients of all optimized variables\n",
    "        optimizer7.zero_grad() \n",
    "        # forward pass: compute predicted outputs by passing inputs to the model\n",
    "        output = model7(data)\n",
    "        # calculate the loss\n",
    "        loss = criterion(output, target)\n",
    "        # backward pass: compute gradient of the loss with respect to model parameters\n",
    "        loss.backward()\n",
    "        # perform a single optimization step (parameter update)\n",
    "        optimizer7.step()\n",
    "        # update running training loss\n",
    "        train_loss += loss.item()*data.size(0)\n",
    "        \n",
    "    # print training statistics \n",
    "    # calculate average loss over an epoch\n",
    "    train_loss = train_loss/len(train_dataloader.dataset)\n",
    "\n",
    "    print('Epoch: {} \\tTraining Loss: {:.6f}'.format(\n",
    "        epoch+1, \n",
    "        train_loss\n",
    "        ))"
   ]
  },
  {
   "cell_type": "code",
   "execution_count": 44,
   "metadata": {
    "colab": {
     "base_uri": "https://localhost:8080/"
    },
    "id": "9fvOvjiU_sQ-",
    "outputId": "c5eab684-b1a5-4e0e-a3c6-f8e37f480514"
   },
   "outputs": [
    {
     "name": "stdout",
     "output_type": "stream",
     "text": [
      "Test Loss: 0.296399\n",
      "\n",
      "Test Accuracy of     0: 97% (134/138)\n",
      "Test Accuracy of     1: 74% (70/94)\n",
      "Test Accuracy of     2: 88% ( 8/ 9)\n",
      "Test Accuracy of     3: 93% (61/65)\n",
      "Test Accuracy of     4: 96% (109/113)\n",
      "Test Accuracy of     5: 91% (74/81)\n",
      "\n",
      "Test Accuracy (Overall): 91% (456/500)\n"
     ]
    }
   ],
   "source": [
    "# initialize lists to monitor test loss and accuracy\n",
    "test_loss = 0.0\n",
    "class_correct = list(0. for i in range(6))\n",
    "class_total = list(0. for i in range(6))\n",
    "\n",
    "model7.eval() # prep model for *evaluation*\n",
    "\n",
    "for data, target in test_dataloader:\n",
    "    # forward pass: compute predicted outputs by passing inputs to the model\n",
    "    output = model7(data)\n",
    "    # calculate the loss\n",
    "    loss = criterion(output, target)\n",
    "    # update test loss \n",
    "    test_loss += loss.item()*data.size(0)\n",
    "    # convert output probabilities to predicted class\n",
    "    _, pred = torch.max(output, 1)\n",
    "    # compare predictions to true label\n",
    "    correct = np.squeeze(pred.eq(target.data.view_as(pred)))\n",
    "    # calculate test accuracy for each object class\n",
    "    for i in range(len(target.data)):\n",
    "        label = target.data[i]\n",
    "        class_correct[label] += correct[i].item()\n",
    "        class_total[label] += 1\n",
    "\n",
    "# calculate and print avg test loss\n",
    "test_loss = test_loss/len(test_dataloader.dataset)\n",
    "print('Test Loss: {:.6f}\\n'.format(test_loss))\n",
    "\n",
    "for i in range(6):\n",
    "    if class_total[i] > 0:\n",
    "        print('Test Accuracy of %5s: %2d%% (%2d/%2d)' % (\n",
    "            str(i), 100 * class_correct[i] / class_total[i],\n",
    "            np.sum(class_correct[i]), np.sum(class_total[i])))\n",
    "    else:\n",
    "        print('Test Accuracy of %5s: N/A (no training examples)' % (class_total[i]))\n",
    "\n",
    "print('\\nTest Accuracy (Overall): %2d%% (%2d/%2d)' % (\n",
    "    100. * np.sum(class_correct) / np.sum(class_total),\n",
    "    np.sum(class_correct), np.sum(class_total)))"
   ]
  },
  {
   "cell_type": "markdown",
   "metadata": {
    "id": "4kLfc5PZACVt"
   },
   "source": [
    "#Considerations\n",
    "\n",
    "Performances on test set continues to be better than using TfIdf Embeddings.\n",
    "\n",
    "With respect to the linear network (model6) performances do not seem to be better.\n",
    "\n",
    "We can try to feed the model for 5 epochs more and see the results."
   ]
  },
  {
   "cell_type": "code",
   "execution_count": 45,
   "metadata": {
    "id": "gTEttj7rAkrn"
   },
   "outputs": [],
   "source": [
    "optimizer7 = torch.optim.SGD(model7.parameters(), lr=0.01)  #Reinitialize the optimizer"
   ]
  },
  {
   "cell_type": "code",
   "execution_count": 46,
   "metadata": {
    "colab": {
     "base_uri": "https://localhost:8080/"
    },
    "id": "trFLUVg8AkOw",
    "outputId": "2c32292b-0f07-4aea-d101-5dafaa508b5a"
   },
   "outputs": [
    {
     "name": "stdout",
     "output_type": "stream",
     "text": [
      "Epoch: 1 \tTraining Loss: 0.279437\n",
      "Epoch: 2 \tTraining Loss: 0.260901\n",
      "Epoch: 3 \tTraining Loss: 0.244008\n",
      "Epoch: 4 \tTraining Loss: 0.228991\n",
      "Epoch: 5 \tTraining Loss: 0.214646\n",
      "Epoch: 6 \tTraining Loss: 0.201381\n",
      "Epoch: 7 \tTraining Loss: 0.188761\n",
      "Epoch: 8 \tTraining Loss: 0.177117\n",
      "Epoch: 9 \tTraining Loss: 0.166382\n",
      "Epoch: 10 \tTraining Loss: 0.155980\n",
      "Epoch: 11 \tTraining Loss: 0.146896\n",
      "Epoch: 12 \tTraining Loss: 0.137874\n",
      "Epoch: 13 \tTraining Loss: 0.129822\n",
      "Epoch: 14 \tTraining Loss: 0.122073\n",
      "Epoch: 15 \tTraining Loss: 0.114825\n"
     ]
    }
   ],
   "source": [
    "# number of epochs to train the model\n",
    "n_epochs = 15  # suggest training between 20-50 epochs\n",
    "\n",
    "model7.train() # prep model for training\n",
    "\n",
    "for epoch in range(n_epochs):\n",
    "    # monitor training loss\n",
    "    train_loss = 0.0\n",
    "    \n",
    "    ###################\n",
    "    # train the model #\n",
    "    ###################\n",
    "    for data, target in train_dataloader:\n",
    "        #target = target.argmax(dim=1)\n",
    "        # clear the gradients of all optimized variables\n",
    "        optimizer7.zero_grad() \n",
    "        # forward pass: compute predicted outputs by passing inputs to the model\n",
    "        output = model7(data)\n",
    "        # calculate the loss\n",
    "        loss = criterion(output, target)\n",
    "        # backward pass: compute gradient of the loss with respect to model parameters\n",
    "        loss.backward()\n",
    "        # perform a single optimization step (parameter update)\n",
    "        optimizer7.step()\n",
    "        # update running training loss\n",
    "        train_loss += loss.item()*data.size(0)\n",
    "        \n",
    "    # print training statistics \n",
    "    # calculate average loss over an epoch\n",
    "    train_loss = train_loss/len(train_dataloader.dataset)\n",
    "\n",
    "    print('Epoch: {} \\tTraining Loss: {:.6f}'.format(\n",
    "        epoch+1, \n",
    "        train_loss\n",
    "        ))\n"
   ]
  },
  {
   "cell_type": "code",
   "execution_count": 47,
   "metadata": {
    "colab": {
     "base_uri": "https://localhost:8080/"
    },
    "id": "Quqwz7VWAys7",
    "outputId": "2e4557c9-7c1a-4206-cd6d-2a8bd3541540"
   },
   "outputs": [
    {
     "name": "stdout",
     "output_type": "stream",
     "text": [
      "Test Loss: 0.238702\n",
      "\n",
      "Test Accuracy of     0: 97% (135/138)\n",
      "Test Accuracy of     1: 86% (81/94)\n",
      "Test Accuracy of     2: 88% ( 8/ 9)\n",
      "Test Accuracy of     3: 93% (61/65)\n",
      "Test Accuracy of     4: 96% (109/113)\n",
      "Test Accuracy of     5: 90% (73/81)\n",
      "\n",
      "Test Accuracy (Overall): 93% (467/500)\n"
     ]
    }
   ],
   "source": [
    "# initialize lists to monitor test loss and accuracy\n",
    "test_loss = 0.0\n",
    "class_correct = list(0. for i in range(6))\n",
    "class_total = list(0. for i in range(6))\n",
    "\n",
    "model7.eval() # prep model for *evaluation*\n",
    "\n",
    "for data, target in test_dataloader:\n",
    "    # forward pass: compute predicted outputs by passing inputs to the model\n",
    "    output = model7(data)\n",
    "    # calculate the loss\n",
    "    loss = criterion(output, target)\n",
    "    # update test loss \n",
    "    test_loss += loss.item()*data.size(0)\n",
    "    # convert output probabilities to predicted class\n",
    "    _, pred = torch.max(output, 1)\n",
    "    # compare predictions to true label\n",
    "    correct = np.squeeze(pred.eq(target.data.view_as(pred)))\n",
    "    # calculate test accuracy for each object class\n",
    "    for i in range(len(target.data)):\n",
    "        label = target.data[i]\n",
    "        class_correct[label] += correct[i].item()\n",
    "        class_total[label] += 1\n",
    "\n",
    "# calculate and print avg test loss\n",
    "test_loss = test_loss/len(test_dataloader.dataset)\n",
    "print('Test Loss: {:.6f}\\n'.format(test_loss))\n",
    "\n",
    "for i in range(6):\n",
    "    if class_total[i] > 0:\n",
    "        print('Test Accuracy of %5s: %2d%% (%2d/%2d)' % (\n",
    "            str(i), 100 * class_correct[i] / class_total[i],\n",
    "            np.sum(class_correct[i]), np.sum(class_total[i])))\n",
    "    else:\n",
    "        print('Test Accuracy of %5s: N/A (no training examples)' % (class_total[i]))\n",
    "\n",
    "print('\\nTest Accuracy (Overall): %2d%% (%2d/%2d)' % (\n",
    "    100. * np.sum(class_correct) / np.sum(class_total),\n",
    "    np.sum(class_correct), np.sum(class_total)))"
   ]
  },
  {
   "cell_type": "markdown",
   "metadata": {
    "id": "OZjv1owRBJPw"
   },
   "source": [
    "Performances are getting a few better but we are not going to augment epochs since we can fall into overfitting..."
   ]
  }
 ],
 "metadata": {
  "accelerator": "GPU",
  "colab": {
   "gpuType": "T4",
   "provenance": []
  },
  "kernelspec": {
   "display_name": "Python 3 (ipykernel)",
   "language": "python",
   "name": "python3"
  },
  "language_info": {
   "codemirror_mode": {
    "name": "ipython",
    "version": 3
   },
   "file_extension": ".py",
   "mimetype": "text/x-python",
   "name": "python",
   "nbconvert_exporter": "python",
   "pygments_lexer": "ipython3",
   "version": "3.10.12"
  }
 },
 "nbformat": 4,
 "nbformat_minor": 4
}
